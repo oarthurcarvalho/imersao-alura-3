{
  "nbformat": 4,
  "nbformat_minor": 0,
  "metadata": {
    "colab": {
      "name": "Desafio-Final_Imersao-Alura.ipynb",
      "provenance": []
    },
    "kernelspec": {
      "name": "python3",
      "display_name": "Python 3"
    },
    "language_info": {
      "name": "python"
    }
  },
  "cells": [
    {
      "cell_type": "markdown",
      "metadata": {
        "id": "7-Y0HrnSO-bX"
      },
      "source": [
        "# Desafio Final Imersão Alura"
      ]
    },
    {
      "cell_type": "markdown",
      "metadata": {
        "id": "r0tuGwFKPCCZ"
      },
      "source": [
        "## Introdução\n",
        "\n",
        "\n",
        "Drug Discover [1] pode ser descrita como o processo de identificação de entidades químicas com potencial para se tornarem agentes terapêuticos. Um objetivo principal das campanhas de descoberta de medicamentos é o reconhecimento de novas entidades moleculares que podem ser valiosas no tratamento de doenças que se qualificam como apresentando necessidades médicas não atendidas. Essas doenças não têm terapias definitivamente úteis e são real ou potencialmente fatais. Os medicamentos comercializados neste momento representam um número relativamente pequeno de tipos-alvo de medicamentos. Os medicamentos direcionados contra os receptores acoplados à proteína G, os receptores nucleares (hormonais) e os canais iônicos representam um pouco menos de 50% dos medicamentos comercializados. De longe, os medicamentos dirigidos contra enzimas representam a maior parte dos medicamentos comercializados. A expansão para novos tipos de alvos de drogas pode ser necessária para preencher certos vazios terapêuticos, mas uma questão de grande desafio intelectual é como escolher um alvo que provavelmente tenha valor, especialmente ao se aventurar em tipos menos explorados de alvos de drogas.\n",
        "\n",
        "O processo de pesquisa e desenvolvimento farmacêutico tradicional sofre com uma alta taxa de desgaste. Para cada nova droga lançada no mercado, a maioria das estimativas sugere que os pesquisadores normalmente terão empregado mais de 100 triagens procurando pistas de drogas, separando candidatos de dezenas de milhares de compostos, conforme a figura mostrada abaixo.\n",
        "\n",
        "<center><img src=\"https://ars.els-cdn.com/content/image/3-s2.0-B9780123854711000301-f30-01-9780123854711.jpg\" align=\"center\"></center>\n",
        "\n",
        "E é neste contexto que a Ciência de Dados se faz presente. Com ela podemos economizar recursos e agilizar o processo através da automação para que novos compostos possam ser identificados, podendo tornar-se remédio.\n",
        "\n",
        "\n"
      ]
    },
    {
      "cell_type": "markdown",
      "metadata": {
        "id": "aH2KVmbtE14w"
      },
      "source": [
        "## Importações"
      ]
    },
    {
      "cell_type": "code",
      "metadata": {
        "id": "0b4gykUOf-mf"
      },
      "source": [
        "import pandas               as pd\n",
        "import numpy                as np\n",
        "import matplotlib.pyplot    as plt\n",
        "import seaborn              as sns\n",
        "\n",
        "\n",
        "from random                 import sample\n",
        "\n",
        "\n",
        "\n",
        "\n",
        "import warnings\n"
      ],
      "execution_count": 96,
      "outputs": []
    },
    {
      "cell_type": "code",
      "metadata": {
        "id": "oPzOpAAELTes"
      },
      "source": [
        "warnings.filterwarnings('ignore')"
      ],
      "execution_count": 97,
      "outputs": []
    },
    {
      "cell_type": "markdown",
      "metadata": {
        "id": "IHeIsU4iEvzj"
      },
      "source": [
        "Os dados utilizados neste projeto foram fornecido pela Alura durante a Imersão Dados. Os dados podem ser encontrados neste [link](https://github.com/alura-cursos/imersao-dados-desafio-final/tree/main/Dados).\n",
        "\n",
        "A origem dos dados é da competição *Mechanisms of Action (MoA) Prediction* que pode ser encontrada no site Kaggle, fornecido pelo Connectivity Map, um projeto da Broad Institute of MIT e Harvard, do LISH (Laboratory for Innovation Science at Harvard) e LINCS (NIH Common Funds Library of Integrated Network-Based Cellular Signatures). O objetivo desta competição é promover o avanço na área de drug development por meio de algoritmos de aprendizado de máquinas.\n",
        "\n",
        "Para acessar a página da competição clique [aqui](https://www.kaggle.com/c/lish-moa)\n",
        "\n",
        "Os arquivos fornecidos foram 2 datasets:\n",
        "\n",
        "1. **dados_experimentos.zip** - Contém os experimentos e dados referentes a sua observação de acordo com as variáveis\n",
        "\n",
        "| Coluna | Descrição | Valor |\n",
        "| ------ | --------- | ----- |\n",
        "|id| Código para identificar o experimento| `str` contendo números e letras|\n",
        "|tratamento| A amostra é do grupo controle ou é um<br>experimento| `com_controle` = grupo controle <br> `com_droga` = Experimento |\n",
        "|dose| Dose da droga Utilizada| `D1` = dose anônima *<br>`D2` = dose anônima *|\n",
        "|tempo| Tempo decorrido do início ao realizar a<br>observação| `24` = 24 horas <br>`48` = 48 horas<br>`72` = 72 horas|\n",
        "|droga| Composto utilizado no experimento |`str` contendo números e letras|\n",
        "|g-x| Expressão Gênica| `float`|\n",
        "|c-x| Viabilidade Celular| `float`|\n",
        "\n",
        "2. **dados_resultados.csv** - Dataframe com o resultados para cada experimento do dataset `dados_experimentos.zip` com os mecanismos de ação ativados. A coluna `id` relaciona os experimentos aos resultados"
      ]
    },
    {
      "cell_type": "code",
      "metadata": {
        "id": "n5-IyMHegVBG"
      },
      "source": [
        "dados = pd.read_csv('https://github.com/alura-cursos/imersaodados3/blob/main/dados/dados_experimentos.zip?raw=true', compression='zip')\n",
        "dados_resultados = pd.read_csv('https://github.com/alura-cursos/imersaodados3/blob/main/dados/dados_resultados.csv?raw=true')"
      ],
      "execution_count": null,
      "outputs": []
    },
    {
      "cell_type": "markdown",
      "metadata": {
        "id": "rQQcU3n-LYwl"
      },
      "source": [
        "O primeiro passo antes de analisarmos o dataset é verificar se há algum problema com as bases de dados"
      ]
    },
    {
      "cell_type": "code",
      "metadata": {
        "id": "QCQsJo4mLoyD"
      },
      "source": [
        "print('dados_experimentos.zip\\n')\n",
        "print(f'Quantidade de Linhas = {dados.shape[0]}')\n",
        "print(f'Quantidade de Colunas = {dados.shape[1]}\\n')\n",
        "\n",
        "print('====================\\n')\n",
        "\n",
        "print('dados_resultados.csv\\n')\n",
        "print(f'Quantidade de Linhas = {dados_resultados.shape[0]}')\n",
        "print(f'Quantidade de Colunas = {dados_resultados.shape[1]}')"
      ],
      "execution_count": null,
      "outputs": []
    },
    {
      "cell_type": "code",
      "metadata": {
        "id": "LR5uRRLcMdWE"
      },
      "source": [
        "# Pega a coluna id do 2 datasets\n",
        "id_dados = dados['id'].unique()\n",
        "id_dados_resultados = dados_resultados['id'].unique()\n",
        "\n",
        "# Verifica se há algum id diferente\n",
        "if all(id_dados == id_dados_resultados):\n",
        "    print('Todos os ids tem seu correspondente no outro dataset')\n",
        "else:\n",
        "    print('Há uma inconsistẽncia no dataset. Verifique!')"
      ],
      "execution_count": null,
      "outputs": []
    },
    {
      "cell_type": "markdown",
      "metadata": {
        "id": "q7zxfUkZMRLX"
      },
      "source": [
        "A primeira verificação é para garantir que o número de linhas entre os dois datasets sao iguais.\n",
        "\n",
        "A segunda verificação era para garantir que um id tem seu correnpondente no outro dataset\n",
        "\n",
        "Todos as verificações se mostraram verdadeiras. Agora, será que há algum valor `NaN` (Not a Number) em nossos datasets?\n",
        "\n",
        "Vamos verificar!"
      ]
    },
    {
      "cell_type": "code",
      "metadata": {
        "id": "tA7sYORQPJBV"
      },
      "source": [
        "# Para dados_experimentais.zip\n",
        "if all(dados.isna().sum() != 0):\n",
        "    print('Há valor NaN')\n",
        "else:\n",
        "    print('Não valor NaN em dados_experimentais.zip')\n",
        "\n",
        "# Para dados_resultados.csv\n",
        "if all(dados_resultados.isna().sum() != 0):\n",
        "    print('Há valor NaN')\n",
        "else:\n",
        "    print('Não valor NaN em dados_resultados.csv')\n",
        "    "
      ],
      "execution_count": null,
      "outputs": []
    },
    {
      "cell_type": "markdown",
      "metadata": {
        "id": "q5rchj8XQkTj"
      },
      "source": [
        "Agora podemos analisar as colunas categóricas de `dados_experimental.zip` (tratamento, tempo, dose, droga)"
      ]
    },
    {
      "cell_type": "code",
      "metadata": {
        "id": "mmF6JjUDPMg9"
      },
      "source": [
        "colunas_categoricas = ['tratamento', 'tempo', 'dose', 'droga']\n",
        "\n",
        "for coluna in colunas_categoricas:\n",
        "    print(f'A coluna {coluna} possui {dados[coluna].nunique() } categorias')"
      ],
      "execution_count": null,
      "outputs": []
    },
    {
      "cell_type": "markdown",
      "metadata": {
        "id": "Bgokjp3kTMo5"
      },
      "source": [
        "Para iniciar a exploração dos dados. Que tal colocarmos uma lupa em cada uma destas variáveis?\n",
        "\n",
        "Vamos lá?"
      ]
    },
    {
      "cell_type": "markdown",
      "metadata": {
        "id": "rS0Ce0lGE6pV"
      },
      "source": [
        "## Análise Exploratória dos Dados"
      ]
    },
    {
      "cell_type": "markdown",
      "metadata": {
        "id": "c8YXNFasUFX2"
      },
      "source": [
        "### Tratamento"
      ]
    },
    {
      "cell_type": "markdown",
      "metadata": {
        "id": "PNE-LDRjU0WC"
      },
      "source": [
        "#### Podemos dizer que o tipo de tratamento está dividido exatamente igual?"
      ]
    },
    {
      "cell_type": "code",
      "metadata": {
        "id": "FB9eIdfRejYB"
      },
      "source": [
        "sns.set(rc={'axes.facecolor':'f6f5f5', 'figure.facecolor':'f6f5f5'})"
      ],
      "execution_count": null,
      "outputs": []
    },
    {
      "cell_type": "code",
      "metadata": {
        "id": "xwekN53lXZLN"
      },
      "source": [
        "x = dados['tratamento'].value_counts()\n",
        "\n",
        "fig, ax = plt.subplots(figsize = (6,6), dpi = 70)\n",
        "\n",
        "\n",
        "sns.barplot(x=x.values, y=x.index, ax=ax)\n",
        "plt.text(x=-4150, y=0.00, s='Droga', fontdict={'family': 'Serif',\n",
        "                                                  'weight':'bold',\n",
        "                                                  'Size': '16',\n",
        "                                                  'style':'normal',\n",
        "                                                  'color':'#512b58'})\n",
        "\n",
        "plt.text(x=-5800, y=1.00, s='Controle', fontdict={'family': 'Serif',\n",
        "                                                  'weight':'bold',\n",
        "                                                  'Size': '16',\n",
        "                                                  'style':'normal',\n",
        "                                                  'color':'#512b58'})\n",
        "\n",
        "plt.text(x=-6150, y=-0.88,\n",
        "         s='Porcentagem de Experimentos',\n",
        "         fontdict={'family': 'Serif',\n",
        "                   'Size': '25',\n",
        "                   'weight':'bold',\n",
        "                   'color':'black'})\n",
        "\n",
        "plt.text(x=-6000, y=-0.63,\n",
        "         s='Há um grande desbalanceamento entre os experimentos \\ncontrole e experimentos que utilizam drogas', \n",
        "        fontdict={'family':'Serif', 'size':'17.5','color': 'black'})\n",
        "\n",
        "\n",
        "plt.text(x=22500, y=0.00, s='92%', fontdict={'family': 'Serif',\n",
        "                                            'weight':'bold',\n",
        "                                            'Size': '16',\n",
        "                                            'style':'normal',\n",
        "                                            'color':'#512b58'})\n",
        "\n",
        "plt.text(x=2800, y=1.00, s='8%', fontdict={'family': 'Serif',\n",
        "                                          'weight':'bold',\n",
        "                                          'Size': '16',\n",
        "                                          'style':'normal',\n",
        "                                          'color':'#512b58'})\n",
        "\n",
        "\n",
        "\n",
        "ax.axes.get_xaxis().set_visible(False)\n",
        "ax.axes.get_yaxis().set_visible(False)\n",
        "ax.spines['bottom'].set_visible(False)\n",
        "ax.spines['left'].set_visible(True)\n",
        "ax.spines['right'].set_visible(False)\n",
        "ax.spines['top'].set_visible(False)"
      ],
      "execution_count": null,
      "outputs": []
    },
    {
      "cell_type": "markdown",
      "metadata": {
        "id": "qTH926fAfUd6"
      },
      "source": [
        "Neste dataset analisado, podemos ver que temos mais experimentos utilizando drogas do que como controle.\n",
        "\n",
        "A explicação para isto é que o grupo controle pode servir para diversos experimentos que utilizam drogas.\n",
        "\n",
        "O grupo de controle permite que visa isolar apenas uma variavel do experimento. Em nosso caso, o grupo controle éstá sob as mesmas condições de conservação, exceto que não recebeu a droga.\n",
        "\n",
        "Um grupo de controle científico nos dá a possibilidade de avaliar uma variável por vez. Ao desenharmos os experimentos, submetemos um grupo as condições normais de funcionamento e um outro grupo mudamos apenas um aspecto. Para o primeiro grupo nós damos o nome de **grupo de controle** e para o segundo **estudo experimental**.\n",
        "\n",
        "Cabe ressaltar que não é necessário experimentos em pares, podemos testar diferentes compostos sob as mesmas condições de um único grupo de controle"
      ]
    },
    {
      "cell_type": "markdown",
      "metadata": {
        "id": "km3opts8VVXi"
      },
      "source": [
        "#### O que é colocado na coluna `droga` nas amostra do grupo de controle?"
      ]
    },
    {
      "cell_type": "code",
      "metadata": {
        "id": "qe4YCv9MVepg"
      },
      "source": [
        "dados_controle = dados[dados['tratamento'] == 'com_controle']\n",
        "print(dados_controle['droga'].unique())"
      ],
      "execution_count": null,
      "outputs": []
    },
    {
      "cell_type": "markdown",
      "metadata": {
        "id": "h9xdeSe-WA7Q"
      },
      "source": [
        "#### Se a droga utilizada é a `cacb2b860` ela tem dose diferentes?"
      ]
    },
    {
      "cell_type": "code",
      "metadata": {
        "id": "-DjHzArEWIjO"
      },
      "source": [
        "dados_controle['dose'].value_counts()"
      ],
      "execution_count": null,
      "outputs": []
    },
    {
      "cell_type": "markdown",
      "metadata": {
        "id": "m44S1qwOWaFM"
      },
      "source": [
        "O grupo de controle também são divididos de acordo com a dose?\n",
        "\n",
        "Você pode me perguntar como o grupo de controle pode ter dose se ele é exatamente a cultura de bacterias na mesma condições do experimento?\n",
        "\n",
        "E é exatamente por essa pergunta que podemos inferir que *TALVEZ* esta droga aplicada no grupo de controle seja um placebo, algo que não ative os mecanismos de ação das amostras. "
      ]
    },
    {
      "cell_type": "markdown",
      "metadata": {
        "id": "PZ6riHFkXeB-"
      },
      "source": [
        "### Tempo"
      ]
    },
    {
      "cell_type": "markdown",
      "metadata": {
        "id": "vp6e-1z3XnEu"
      },
      "source": [
        "#### E a variável `tempo`? É balanceada? "
      ]
    },
    {
      "cell_type": "code",
      "metadata": {
        "id": "IBmFaq9GvYbW"
      },
      "source": [
        "sns.countplot(data=dados, y='tempo')"
      ],
      "execution_count": null,
      "outputs": []
    },
    {
      "cell_type": "markdown",
      "metadata": {
        "id": "XvaqMXVIZggx"
      },
      "source": [
        "A variável `tempo` está balanceada. Bem distribuída entre as 3 categorias (24, 48, 72). Esta observação tem sentido, pois se o experimento foi desenhado para fazer observações nestes momentos, espera-se que mais ou menos todas análises tenham sido feitas nos tempos marcados.\n",
        "\n",
        "A feature `tempo` é tempo decorrido desde a aplicação do composto até a observação. Então se a label na variável `tempo` é 24, aqueles dados refere-se à observação 24 horas depois da aplicação do composto."
      ]
    },
    {
      "cell_type": "markdown",
      "metadata": {
        "id": "IL9ViJ5zX6XJ"
      },
      "source": [
        "#### Eu vejo que ela não tem exatamente o mesmo número de observações o que é isso?"
      ]
    },
    {
      "cell_type": "code",
      "metadata": {
        "id": "BRVd4ug-YEnF"
      },
      "source": [
        ""
      ],
      "execution_count": null,
      "outputs": []
    },
    {
      "cell_type": "markdown",
      "metadata": {
        "id": "zYzpJpKVYM4T"
      },
      "source": [
        "### Dose"
      ]
    },
    {
      "cell_type": "markdown",
      "metadata": {
        "id": "8vvfESStlRnE"
      },
      "source": [
        "#### Como está distribuída a variável `dose`?"
      ]
    },
    {
      "cell_type": "code",
      "metadata": {
        "id": "2mBA1kAcyVdt"
      },
      "source": [
        "sns.countplot(data=dados, x='dose')"
      ],
      "execution_count": null,
      "outputs": []
    },
    {
      "cell_type": "markdown",
      "metadata": {
        "id": "IsVDwmH8ejzZ"
      },
      "source": [
        "A variável `dose` refere-se a dose aplicada do composto no experimento.\n",
        "\n",
        "O motivo de não revelarem qual dose é a maior é puramente para a eliminação de viés por quem analisa os dados. Este comportamento, de anonimizar os dados, está presente por todo dataset,"
      ]
    },
    {
      "cell_type": "markdown",
      "metadata": {
        "id": "as6N_JSOkXH8"
      },
      "source": [
        "Uma outra análise que podemos fazer é sobre o número de composto da base de dados"
      ]
    },
    {
      "cell_type": "markdown",
      "metadata": {
        "id": "xiER9XoOYPMf"
      },
      "source": [
        "### Drogas"
      ]
    },
    {
      "cell_type": "markdown",
      "metadata": {
        "id": "MDedAjIwZhT2"
      },
      "source": [
        "#### Quantas drogas há em nosso dataset?\n"
      ]
    },
    {
      "cell_type": "code",
      "metadata": {
        "id": "hugtB266ZnJD"
      },
      "source": [
        "qnt_drogas = dados['droga'].nunique()\n",
        "print(f'Há {qnt_drogas} em nosso dataset')"
      ],
      "execution_count": null,
      "outputs": []
    },
    {
      "cell_type": "markdown",
      "metadata": {
        "id": "bDIbDnLaYgQk"
      },
      "source": [
        "#### Quais são as 5 drogas mais utilizadas?"
      ]
    },
    {
      "cell_type": "code",
      "metadata": {
        "id": "0XmAT__2IqwZ"
      },
      "source": [
        "contagem_droga = dados['droga'].value_counts().sort_values(ascending=False)[1:6]\n",
        "sns.barplot(y=contagem_droga.index, x=contagem_droga.values)"
      ],
      "execution_count": null,
      "outputs": []
    },
    {
      "cell_type": "markdown",
      "metadata": {
        "id": "ApJQtOmXT8pG"
      },
      "source": [
        "Em nosso dataset, a droga mais utilizada é o placebo utilizado no grupo de controle. Ao retirarmos este rótulo, nosso Top 5 fica\n",
        "\n",
        "1. `87d714366`\n",
        "2. `9f80f3f77`\n",
        "3. `8b87a7a83`\n",
        "4. `5628cb3ee`\n",
        "5. `d08af5d4b`\n",
        "\n",
        "Aposto que você está se perguntando quais são estas drogas?\n",
        "\n",
        "Mais uma vez aquele padrão de anonimizar os dados para evitar viés por parte de quem os analisa."
      ]
    },
    {
      "cell_type": "markdown",
      "metadata": {
        "id": "z5qmJxZTcIvY"
      },
      "source": [
        "#### As mesmas drogas ativam mecanismos de ação diferentes?"
      ]
    },
    {
      "cell_type": "code",
      "metadata": {
        "id": "8mkpnJvDcccp"
      },
      "source": [
        ""
      ],
      "execution_count": null,
      "outputs": []
    },
    {
      "cell_type": "markdown",
      "metadata": {
        "id": "xr0S2I_CKKQ3"
      },
      "source": [
        "### Mecanismos de Ação"
      ]
    },
    {
      "cell_type": "code",
      "metadata": {
        "id": "RqR5-dBtdbA_"
      },
      "source": [
        "dados_resultados['moa_ativados'] = ''\n",
        "\n",
        "for col_name in dados_resultados.columns:\n",
        "    dados_resultados.loc[dados_resultados[col_name] == 1, 'moa_ativados'] = dados_resultados['moa_ativados'] + ' | ' + col_name\n",
        "\n",
        "dados_resultados['moa_ativados'] = dados_resultados['moa_ativados'].str.lstrip('| ')"
      ],
      "execution_count": null,
      "outputs": []
    },
    {
      "cell_type": "code",
      "metadata": {
        "id": "RJ-BhMARdbvP"
      },
      "source": [
        "dados_resultados['n_moa'] = dados_resultados.drop('id', axis=1).sum(axis=1)\n",
        "dados_resultados['ativo_moa'] = (dados_resultados['n_moa'] != 0)\n",
        "dados_resultados.head()"
      ],
      "execution_count": null,
      "outputs": []
    },
    {
      "cell_type": "markdown",
      "metadata": {
        "id": "p4UjFumMclKN"
      },
      "source": [
        "#### Quantos Mecanismos de ação há em nosso dataset"
      ]
    },
    {
      "cell_type": "code",
      "metadata": {
        "id": "2QRca1fsck1h"
      },
      "source": [
        "qnt_moa = len(dados_resultados.columns) - 4\n",
        "print(f'Há {qnt_moa} em nosso dataset')"
      ],
      "execution_count": null,
      "outputs": []
    },
    {
      "cell_type": "markdown",
      "metadata": {
        "id": "sqY8VlhfdJ4L"
      },
      "source": [
        "#### Como estão distribuídas o número de MoA?"
      ]
    },
    {
      "cell_type": "code",
      "metadata": {
        "id": "ROPgR-DBdTAt"
      },
      "source": [
        "qnt_cat_n_moa = dados_resultados['n_moa'].value_counts().sort_values(ascending=False)\n",
        "qnt_cat_n_moa = qnt_cat_n_moa.reset_index()\n",
        "qnt_cat_n_moa.columns = ['cat_n_moa', 'quantidades']\n",
        "\n",
        "quantidade_2_ou_mais = qnt_cat_n_moa.loc[2:7]['quantidades'].sum()\n",
        "\n",
        "df_cat_2_ou_mais = pd.DataFrame([['2 ou mais', quantidade_2_ou_mais]],\n",
        "                                columns=['cat_n_moa', 'quantidades'])\n",
        "\n",
        "qnt_cat_n_moa = qnt_cat_n_moa.drop([2,3,4,5,6]).append(df_cat_2_ou_mais, ignore_index=True)\n",
        "\n",
        "sns.barplot(data=qnt_cat_n_moa, y='quantidades', x='cat_n_moa')"
      ],
      "execution_count": null,
      "outputs": []
    },
    {
      "cell_type": "code",
      "metadata": {
        "id": "p0SK5RZWcN1Y"
      },
      "source": [
        "dados_resultados['n_moa'] = dados_resultados.drop('id', axis=1).sum(axis=1)\n",
        "dados_resultados['ativo_moa'] = (dados_resultados['n_moa'] != 0)\n",
        "dados_resultados.head()"
      ],
      "execution_count": null,
      "outputs": []
    },
    {
      "cell_type": "markdown",
      "metadata": {
        "id": "NBI5bFRhd-b0"
      },
      "source": [
        "#### Qual a relação entre experimento com MoA ativados e não ativados?"
      ]
    },
    {
      "cell_type": "code",
      "metadata": {
        "id": "34_CS821ePk3"
      },
      "source": [
        "round(dados_resultados['ativo_moa'].value_counts(normalize=True),2)"
      ],
      "execution_count": null,
      "outputs": []
    },
    {
      "cell_type": "markdown",
      "metadata": {
        "id": "XvIRoHDHeQLq"
      },
      "source": [
        "#### Qual o MoA mais ativados?"
      ]
    },
    {
      "cell_type": "code",
      "metadata": {
        "id": "3-Jub74cvk65"
      },
      "source": [
        "qnt_moa = dados_resultados.drop(['id', 'n_moa', 'ativo_moa', 'moa_ativados'],\n",
        "                                axis=1\n",
        "                                ).sum(axis=0).sort_values(ascending=False)[:10]\n",
        "\n",
        "sns.barplot(y=qnt_moa.index, x=qnt_moa.values)"
      ],
      "execution_count": null,
      "outputs": []
    },
    {
      "cell_type": "markdown",
      "metadata": {
        "id": "eG6X-MkWfX1n"
      },
      "source": [
        "#### Uma droga pode ativar diversos tipos de MoA?"
      ]
    },
    {
      "cell_type": "markdown",
      "metadata": {
        "id": "kBb_m-bZf9wS"
      },
      "source": [
        ""
      ]
    },
    {
      "cell_type": "code",
      "metadata": {
        "id": "2-5s9fRChCpJ"
      },
      "source": [
        "lista_drogas = list(dados['droga'].unique())\n",
        "\n",
        "flag = False\n",
        "\n",
        "for droga in lista_drogas:\n",
        "\n",
        "    lista_id = list(dados[dados['droga'] == droga]['id'].values)\n",
        "\n",
        "    moa_ativos = dados_resultados[dados_resultados['id'].isin(lista_id)]['moa_ativados'].unique()\n",
        "    \n",
        "    if len(moa_ativos) > 1:\n",
        "        print(f'A droga {droga} ativa diferentes combinações de Moa')\n",
        "        flag = True\n",
        "\n",
        "if not flag:\n",
        "    print('Drogas ativam as mesma combinações de MoA')"
      ],
      "execution_count": null,
      "outputs": []
    },
    {
      "cell_type": "markdown",
      "metadata": {
        "id": "Zsjh7gO0gzcb"
      },
      "source": [
        "#### Qual é a relação entre os tipos de MoA presente no dataset?"
      ]
    },
    {
      "cell_type": "markdown",
      "metadata": {
        "id": "23oo5suzov9u"
      },
      "source": [
        "Ao examinarmos o dataset `dados_resultados.csv` podemos ver que a maioria das colunas terminam com as seguintes palavras\n",
        "\n",
        "1. `_inhibidor`\n",
        "2. `_antagonist`\n",
        "3. `_agonist`\n",
        "\n",
        "Há MoA com outras terminações. E também há moa que não tem nem estas terminações.\n",
        "\n",
        "O primeiro passo é entender o que significa esses termos. Isso é uma área chamada de *farmacodinâmica* (estudo dos efeitos de um composto/droga no corpo)\n",
        "\n",
        "O estudo desta área baseia-se no conceito da ligação fármaco-receptor.\n",
        "\n",
        "\n",
        "Um composto pode se ligar a uma célula e pode ocorre uma resposta como consequência desta ligação. Tudo depende da chamada curva de *dose x resposta*\n",
        "\n",
        "Muitos receptores de compostos podem ser categorizados dentro de dois estados de conformação, que estão em equilíbrio reversível entre si. Temos com grande divisão:\n",
        "\n",
        "- **Agonista** - Um composto que, através de sua ligação a seu receptor, favorece a conformação ativa deste receptor é denominado agonista\n",
        "\n",
        "- **Antagonista** - Um fármaco que impede a ativação do receptor pelo agonista é designado como antagonista.\n",
        "\n",
        "**Em resumo, agonista e antagonista são duas pessoas no aniversário Guanabara disputando a última caixa de geléia de mocotó R$0,16 mais barato.O mais forte, leva.** 😅\n",
        "\n",
        "Por exemplo:\n",
        "\n",
        "`retinoid_receptor_agonist`, `retinoid_receptor_antagonist` competem entre si para pelo receptor de retinoides, moléculas quimicamente relacionadas com a vitamina A"
      ]
    },
    {
      "cell_type": "code",
      "metadata": {
        "id": "sZl676tAkRdL"
      },
      "source": [
        "def remove_items(lista, item):\n",
        "      \n",
        "    lista_nova = [i for i in lista if i != item]\n",
        "  \n",
        "    return lista_nova\n",
        "\n",
        "def get_cat_moa(df, value):\n",
        "\n",
        "    moas = df['moa_ativados']\n",
        "    lista_moas = moas.split(' | ')\n",
        "    acao = [j.split('_')[-1] for j in lista_moas]\n",
        "\n",
        "    if value == 'others':\n",
        "\n",
        "        acao = remove_items(acao, 'inhibitor')\n",
        "        acao = remove_items(acao, 'agonist')\n",
        "        acao = remove_items(acao, 'antagonist')\n",
        "\n",
        "        if (len(acao) == 1) and ('' in acao):\n",
        "            return 0\n",
        "\n",
        "        if len(acao) > 0:\n",
        "            return 1\n",
        "\n",
        "\n",
        "    if value in acao:\n",
        "        return 1\n",
        "    return 0"
      ],
      "execution_count": null,
      "outputs": []
    },
    {
      "cell_type": "code",
      "metadata": {
        "id": "XMgAjtKDs_U5"
      },
      "source": [
        "dados_resultados['inibidor'] = dados_resultados.apply(get_cat_moa, value='inhibitor', axis = 1)\n",
        "dados_resultados['agonista'] = dados_resultados.apply(get_cat_moa, value='agonist', axis = 1)\n",
        "dados_resultados['antagonista'] = dados_resultados.apply(get_cat_moa, value='antagonist', axis = 1)\n",
        "dados_resultados['outros'] = dados_resultados.apply(get_cat_moa, value='others', axis = 1)"
      ],
      "execution_count": null,
      "outputs": []
    },
    {
      "cell_type": "code",
      "metadata": {
        "id": "wjXqsiIqu3BJ"
      },
      "source": [
        "cat_terminacoes = dados_resultados[['inibidor', 'agonista', 'antagonista', 'outros']].sum().sort_values(ascending=False)\n",
        "\n",
        "sns.barplot(x=cat_terminacoes.values, y=cat_terminacoes.index, orient='h', )"
      ],
      "execution_count": null,
      "outputs": []
    },
    {
      "cell_type": "markdown",
      "metadata": {
        "id": "xnPahfnVxDEf"
      },
      "source": [
        "### Distribuição da Expressão Gênica"
      ]
    },
    {
      "cell_type": "code",
      "metadata": {
        "id": "fXnur1am2deY"
      },
      "source": [
        "g_x = [f'g-{i}' for i in range(772)]\n",
        "\n",
        "g_random = dados[sample(g_x, 4)]"
      ],
      "execution_count": null,
      "outputs": []
    },
    {
      "cell_type": "code",
      "metadata": {
        "id": "tX27Ib-nx6BM"
      },
      "source": [
        "fig, ax = plt.subplots(2,2, figsize=(16,9))\n",
        "\n",
        "ax = ax.ravel()\n",
        "\n",
        "for i, df in enumerate(g_random):\n",
        "    sns.histplot(data=dados[df], multiple='stack', kde=True, ax=ax[i])"
      ],
      "execution_count": null,
      "outputs": []
    },
    {
      "cell_type": "markdown",
      "metadata": {
        "id": "VnWg6IDh35UM"
      },
      "source": [
        "### Distribuição da Viabilidade da Célula"
      ]
    },
    {
      "cell_type": "code",
      "metadata": {
        "id": "CV_luEBW3-dy"
      },
      "source": [
        "\n",
        "c_x = [f'c-{i}' for i in range(100)]\n",
        "\n",
        "c_random = dados[sample(c_x, 4)]"
      ],
      "execution_count": null,
      "outputs": []
    },
    {
      "cell_type": "code",
      "metadata": {
        "id": "fKaU9vZn4AaB"
      },
      "source": [
        "fig, ax = plt.subplots(2,2, figsize=(16,9))\n",
        "\n",
        "ax = ax.ravel()\n",
        "\n",
        "for i, df in enumerate(c_random):\n",
        "    sns.histplot(data=dados[df], multiple='stack', kde=True, ax=ax[i])"
      ],
      "execution_count": null,
      "outputs": []
    },
    {
      "cell_type": "markdown",
      "metadata": {
        "id": "UaoghObv4ABE"
      },
      "source": [
        "Com uma análise do gráfico, podemos ver que as colunas C-X e G-X tem uma distribuição normal. Tudo nos leva a crer que a essas variáveis passaram por uma transformação que alterou sua distribuição.\n",
        "\n",
        "Vamos ver a correlação entre elas"
      ]
    },
    {
      "cell_type": "markdown",
      "metadata": {
        "id": "IgwPoleD5DZm"
      },
      "source": [
        "### Correlação entre as variáveis númericas"
      ]
    },
    {
      "cell_type": "markdown",
      "metadata": {
        "id": "05Fq8NLS5Rkx"
      },
      "source": [
        "#### G-x's"
      ]
    },
    {
      "cell_type": "code",
      "metadata": {
        "id": "6E37JAFF541Y"
      },
      "source": [
        "corr = dados.loc[:,'g-0':'g-50'].corr()"
      ],
      "execution_count": null,
      "outputs": []
    },
    {
      "cell_type": "code",
      "metadata": {
        "id": "uj6vY6Z35kfg"
      },
      "source": [
        "%matplotlib inline\n",
        "# Generate a mask for the upper triangle\n",
        "mask = np.triu(np.ones_like(corr, dtype=bool))\n",
        "\n",
        "# Set up the matplotlib figure\n",
        "f, ax = plt.subplots(figsize=(20, 20))\n",
        "\n",
        "# Generate a custom diverging colormap\n",
        "cmap = sns.diverging_palette(250, 100, as_cmap=True)\n",
        "\n",
        "# Draw the heatmap with the mask and correct aspect ratio\n",
        "sns.heatmap(corr, mask=mask, cmap=cmap, center=0,\n",
        "            square=True, linewidths=.5, cbar_kws={\"shrink\": .5})\n",
        "\n",
        "plt.show()"
      ],
      "execution_count": null,
      "outputs": []
    },
    {
      "cell_type": "markdown",
      "metadata": {
        "id": "eFb_8h-h75z9"
      },
      "source": [
        "Podemos que a maioria das combinações entre os g's fica com cor de burro quando foge (correlação próxima de 0). \n",
        "\n",
        "O genes com a maior correlação é o g-50 com g-37"
      ]
    },
    {
      "cell_type": "markdown",
      "metadata": {
        "id": "4BEkhgof5XaN"
      },
      "source": [
        "#### C-x's"
      ]
    },
    {
      "cell_type": "code",
      "metadata": {
        "id": "fYxzFqsc5Q7d"
      },
      "source": [
        "corr = dados.loc[:,'c-0':'c-50'].corr()"
      ],
      "execution_count": null,
      "outputs": []
    },
    {
      "cell_type": "code",
      "metadata": {
        "id": "bVFA-_c55CO7"
      },
      "source": [
        "%matplotlib inline\n",
        "# Generate a mask for the upper triangle\n",
        "mask = np.triu(np.ones_like(corr, dtype=bool))\n",
        "\n",
        "# Set up the matplotlib figure\n",
        "f, ax = plt.subplots(figsize=(20, 20))\n",
        "\n",
        "# Generate a custom diverging colormap\n",
        "cmap = sns.diverging_palette(250, 100, as_cmap=True)\n",
        "\n",
        "# Draw the heatmap with the mask and correct aspect ratio\n",
        "sns.heatmap(corr, mask=mask, cmap=cmap, center=0,\n",
        "            square=True, linewidths=.5, cbar_kws={\"shrink\": .5})\n",
        "\n",
        "plt.show()"
      ],
      "execution_count": null,
      "outputs": []
    },
    {
      "cell_type": "markdown",
      "metadata": {
        "id": "IVhBwDVI9N0H"
      },
      "source": [
        "Entre as variáveis C's vemos que há um alta correlação entre elas.\n",
        "\n",
        "*Pra eu que já não enxergo cor muito bem, então*!"
      ]
    },
    {
      "cell_type": "markdown",
      "metadata": {
        "id": "GFv9EDQ2_d9P"
      },
      "source": [
        "## Analisando um MoA"
      ]
    },
    {
      "cell_type": "markdown",
      "metadata": {
        "id": "Th6dJMFjA4UZ"
      },
      "source": [
        "Resolvi analisar o ativamento do MoA `serotonin_receptor_antagonist`.\n",
        "\n",
        "Você pode se perguntar: \"Porque esse MoA?\"\n",
        "\n",
        "Sendo sincero, após uma pesquisa, vi que esse é Mecanismo de Ação do Vonau Flash, um remédio jaboticaba, feito no Brasil, pela USP. A bula que diz sobre o mecanismo de ação pode ser acessada [aqui](https://consultaremedios.com.br/vonau-flash/bula)\n",
        "\n",
        "Pela pouca pesquisa que fiz, é um remédio que leva vantagem sobre os concorrentes é que no é preciso engolir, ele dissolve na boa. Excelente opção para crianças, ou a pessoa que vos escreve, que acham ruim engolir o remédio\n",
        "\n",
        "Outra vantagem é que ele age mais rápido que todos os outro concorrentes.\n",
        "\n",
        "\n",
        "Em 2018, a patente respondia por **58% de toda a receita da USP com royalties de invenções.**"
      ]
    },
    {
      "cell_type": "markdown",
      "metadata": {
        "id": "dP9Rdjx_Gawk"
      },
      "source": [
        "### serotonin_receptor_antagonist"
      ]
    },
    {
      "cell_type": "markdown",
      "metadata": {
        "id": "MqPO4jPUGgGE"
      },
      "source": [
        "Primeiro ver a quantidade de ativação deste MoA"
      ]
    },
    {
      "cell_type": "code",
      "metadata": {
        "id": "OgtMrCBBGlYF"
      },
      "source": [
        "dados_combinados = pd.merge(dados, dados_resultados[['id', 'serotonin_receptor_antagonist']], on='id')\n",
        "dados_combinados"
      ],
      "execution_count": null,
      "outputs": []
    },
    {
      "cell_type": "code",
      "metadata": {
        "id": "KwrnCaeAGdtC"
      },
      "source": [
        "print(round(dados_combinados['serotonin_receptor_antagonist'].value_counts(normalize=True),2))\n",
        "sns.countplot(data=dados_combinados, y='serotonin_receptor_antagonist')"
      ],
      "execution_count": null,
      "outputs": []
    },
    {
      "cell_type": "markdown",
      "metadata": {
        "id": "e1_xXzBGFnT-"
      },
      "source": [
        "Apenas 2% dos dados totais ativaram o Moa `serotonin_receptor_antagonist`.]\n",
        "Se pensarmos em fazer um modelo, necessitamos de um balanceamento deste target"
      ]
    },
    {
      "cell_type": "markdown",
      "metadata": {
        "id": "8EngkfbuH22K"
      },
      "source": [
        "### Quais drogas estão associados à `serotonin_receptor_antagonist`?"
      ]
    },
    {
      "cell_type": "code",
      "metadata": {
        "id": "7imXNlzkH10y"
      },
      "source": [
        "dados_serotonin = dados_combinados[dados_combinados['serotonin_receptor_antagonist'] == 1]\n",
        "dados_serotonin['droga'].nunique()"
      ],
      "execution_count": null,
      "outputs": []
    },
    {
      "cell_type": "markdown",
      "metadata": {
        "id": "sVNLvR3KIQwf"
      },
      "source": [
        "Há **68** drogas relacionadas à este MoA. Outra pergunta que nos permeia é..."
      ]
    },
    {
      "cell_type": "markdown",
      "metadata": {
        "id": "1u2QU-llIbHu"
      },
      "source": [
        "### Quantidades por droga?"
      ]
    },
    {
      "cell_type": "code",
      "metadata": {
        "id": "CTEo1RnpIMAJ"
      },
      "source": [
        "dados_combinados[dados_combinados['serotonin_receptor_antagonist'] == 1]['droga'].value_counts().sort_values(ascending=False)"
      ],
      "execution_count": null,
      "outputs": []
    },
    {
      "cell_type": "markdown",
      "metadata": {
        "id": "rnZPjB6NI7WK"
      },
      "source": [
        "### É ativada com outras MoA?"
      ]
    },
    {
      "cell_type": "code",
      "metadata": {
        "id": "fiyJK5QpI95R"
      },
      "source": [
        "id_dados_serotonin = list(dados_serotonin['id'].values)"
      ],
      "execution_count": null,
      "outputs": []
    },
    {
      "cell_type": "code",
      "metadata": {
        "id": "ggyj23APJUfu"
      },
      "source": [
        "moa_ativados_serotonin = dados_resultados[dados_resultados['id'].isin(id_dados_serotonin)]\n",
        "moa_ativados_serotonin['moa_ativados'].nunique()"
      ],
      "execution_count": null,
      "outputs": []
    },
    {
      "cell_type": "markdown",
      "metadata": {
        "id": "wj3LqHomJxOj"
      },
      "source": [
        "O `serotonin_receptor_antagonist` ativa em mais 9 combinações de MoA."
      ]
    },
    {
      "cell_type": "code",
      "metadata": {
        "id": "txbysO9pJn2T"
      },
      "source": [
        "for combinacao in moa_ativados_serotonin['moa_ativados'].unique():\n",
        "    print(combinacao)\n",
        "    print()"
      ],
      "execution_count": null,
      "outputs": []
    },
    {
      "cell_type": "markdown",
      "metadata": {
        "id": "-tHP3_QcKapQ"
      },
      "source": [
        "Estas são as combinações de MoA em que o `serotonin_receptor_antagonist` participa"
      ]
    },
    {
      "cell_type": "markdown",
      "metadata": {
        "id": "cZSgbILWLGc-"
      },
      "source": [
        "# Qual droga ativa apenas o `serotonin_receptor_antagonist`?\n"
      ]
    },
    {
      "cell_type": "code",
      "metadata": {
        "id": "84C2hjJnLGMp"
      },
      "source": [
        "lista = list(moa_ativados_serotonin[moa_ativados_serotonin['moa_ativados'] == 'serotonin_receptor_antagonist']['id'].values)"
      ],
      "execution_count": null,
      "outputs": []
    },
    {
      "cell_type": "code",
      "metadata": {
        "id": "Lodw8CdGLycD"
      },
      "source": [
        "dados_combinados[dados_combinados['id'].isin(lista)]['droga'].unique()"
      ],
      "execution_count": null,
      "outputs": []
    },
    {
      "cell_type": "markdown",
      "metadata": {
        "id": "gs1kMqPtL-oy"
      },
      "source": [
        "Todos as drogas acime PODE ser um composto que está dentro do Vonal Flash. *Considerando que o remédio ativa apenas um MOA*"
      ]
    },
    {
      "cell_type": "markdown",
      "metadata": {
        "id": "A5UyeT8PKiy3"
      },
      "source": [
        "## Conclusões"
      ]
    },
    {
      "cell_type": "markdown",
      "metadata": {
        "id": "lRNEy4YRKmoa"
      },
      "source": [
        "Atravé do projeto apresentado pela Alura conseguimos identificar e analisar Mecanismo de Ação que está dentro do Vonal Flash"
      ]
    },
    {
      "cell_type": "markdown",
      "metadata": {
        "id": "tFhjyWijMS4v"
      },
      "source": [
        "## Próximo Passos"
      ]
    },
    {
      "cell_type": "markdown",
      "metadata": {
        "id": "lmA55t9qMVD8"
      },
      "source": [
        "Como Próximos Passos podemos criar um modelo que preveja quando o MoA `serotonin_receptor_antagonist` ative"
      ]
    },
    {
      "cell_type": "markdown",
      "metadata": {
        "id": "TZ8l-kwk41pP"
      },
      "source": [
        "## Referências\n",
        "\n",
        "[1] [Drug Discovery](https://www.sciencedirect.com/sdfe/pdf/download/eid/3-s2.0-B9780123854711000301/first-page-pdf)\n",
        "\n",
        "[2] https://anestesiologia.paginas.ufsc.br/files/2015/02/Farmacodinamica-texto.pdf\n",
        "\n",
        "[3] https://pt.wikipedia.org/wiki/Retinoides\n",
        "\n",
        "[4] https://exame.com/ciencia/mais-que-ciencia-a-gestao-do-vonau-flash-patente-milionaria-da-usp/\n",
        "\n",
        "\n",
        "\n"
      ]
    },
    {
      "cell_type": "code",
      "metadata": {
        "id": "DPfbzCVvuxLV"
      },
      "source": [
        ""
      ],
      "execution_count": null,
      "outputs": []
    }
  ]
}