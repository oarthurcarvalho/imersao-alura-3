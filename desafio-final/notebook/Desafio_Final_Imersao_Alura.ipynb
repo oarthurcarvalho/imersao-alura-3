{
  "nbformat": 4,
  "nbformat_minor": 0,
  "metadata": {
    "colab": {
      "name": "Desafio-Final_Imersao-Alura.ipynb",
      "provenance": []
    },
    "kernelspec": {
      "name": "python3",
      "display_name": "Python 3"
    },
    "language_info": {
      "name": "python"
    }
  },
  "cells": [
    {
      "cell_type": "markdown",
      "metadata": {
        "id": "7-Y0HrnSO-bX"
      },
      "source": [
        "# Desafio Final Imersão Alura"
      ]
    },
    {
      "cell_type": "markdown",
      "metadata": {
        "id": "r0tuGwFKPCCZ"
      },
      "source": [
        "## Introdução\n",
        "\n",
        "\n",
        "Drug Discover [1] pode ser descrita como o processo de identificação de entidades químicas com potencial para se tornarem agentes terapêuticos. Um objetivo principal das campanhas de descoberta de medicamentos é o reconhecimento de novas entidades moleculares que podem ser valiosas no tratamento de doenças que se qualificam como apresentando necessidades médicas não atendidas. Essas doenças não têm terapias definitivamente úteis e são real ou potencialmente fatais. Os medicamentos comercializados neste momento representam um número relativamente pequeno de tipos-alvo de medicamentos. Os medicamentos direcionados contra os receptores acoplados à proteína G, os receptores nucleares (hormonais) e os canais iônicos representam um pouco menos de 50% dos medicamentos comercializados. De longe, os medicamentos dirigidos contra enzimas representam a maior parte dos medicamentos comercializados. A expansão para novos tipos de alvos de drogas pode ser necessária para preencher certos vazios terapêuticos, mas uma questão de grande desafio intelectual é como escolher um alvo que provavelmente tenha valor, especialmente ao se aventurar em tipos menos explorados de alvos de drogas.\n",
        "\n",
        "O processo de pesquisa e desenvolvimento farmacêutico tradicional sofre com uma alta taxa de desgaste. Para cada nova droga lançada no mercado, a maioria das estimativas sugere que os pesquisadores normalmente terão empregado mais de 100 triagens procurando pistas de drogas, separando candidatos de dezenas de milhares de compostos, conforme a figura mostrada abaixo.\n",
        "\n",
        "<center><img src=\"https://ars.els-cdn.com/content/image/3-s2.0-B9780123854711000301-f30-01-9780123854711.jpg\" align=\"center\"></center>\n",
        "\n",
        "E é neste contexto que a Ciência de Dados se faz presente. Com ela podemos economizar recursos e agilizar o processo através da automação para que novos compostos possam ser identificados, podendo tornar-se remédio.\n",
        "\n",
        "\n"
      ]
    },
    {
      "cell_type": "markdown",
      "metadata": {
        "id": "aH2KVmbtE14w"
      },
      "source": [
        "## Importações"
      ]
    },
    {
      "cell_type": "code",
      "metadata": {
        "id": "0b4gykUOf-mf"
      },
      "source": [
        "import pandas               as pd\n",
        "import numpy                as np\n",
        "import matplotlib.pyplot    as plt\n",
        "import seaborn              as sns\n",
        "\n",
        "\n",
        "from random                 import sample\n",
        "\n",
        "\n",
        "\n",
        "\n",
        "import warnings\n"
      ],
      "execution_count": 96,
      "outputs": []
    },
    {
      "cell_type": "code",
      "metadata": {
        "id": "oPzOpAAELTes"
      },
      "source": [
        "warnings.filterwarnings('ignore')"
      ],
      "execution_count": 97,
      "outputs": []
    },
    {
      "cell_type": "markdown",
      "metadata": {
        "id": "IHeIsU4iEvzj"
      },
      "source": [
        "Os dados utilizados neste projeto foram fornecido pela Alura durante a Imersão Dados. Os dados podem ser encontrados neste [link](https://github.com/alura-cursos/imersao-dados-desafio-final/tree/main/Dados).\n",
        "\n",
        "A origem dos dados é da competição *Mechanisms of Action (MoA) Prediction* que pode ser encontrada no site Kaggle, fornecido pelo Connectivity Map, um projeto da Broad Institute of MIT e Harvard, do LISH (Laboratory for Innovation Science at Harvard) e LINCS (NIH Common Funds Library of Integrated Network-Based Cellular Signatures). O objetivo desta competição é promover o avanço na área de drug development por meio de algoritmos de aprendizado de máquinas.\n",
        "\n",
        "Para acessar a página da competição clique [aqui](https://www.kaggle.com/c/lish-moa)\n",
        "\n",
        "Os arquivos fornecidos foram 2 datasets:\n",
        "\n",
        "1. **dados_experimentos.zip** - Contém os experimentos e dados referentes a sua observação de acordo com as variáveis\n",
        "\n",
        "| Coluna | Descrição | Valor |\n",
        "| ------ | --------- | ----- |\n",
        "|id| Código para identificar o experimento| `str` contendo números e letras|\n",
        "|tratamento| A amostra é do grupo controle ou é um<br>experimento| `com_controle` = grupo controle <br> `com_droga` = Experimento |\n",
        "|dose| Dose da droga Utilizada| `D1` = dose anônima *<br>`D2` = dose anônima *|\n",
        "|tempo| Tempo decorrido do início ao realizar a<br>observação| `24` = 24 horas <br>`48` = 48 horas<br>`72` = 72 horas|\n",
        "|droga| Composto utilizado no experimento |`str` contendo números e letras|\n",
        "|g-x| Expressão Gênica| `float`|\n",
        "|c-x| Viabilidade Celular| `float`|\n",
        "\n",
        "2. **dados_resultados.csv** - Dataframe com o resultados para cada experimento do dataset `dados_experimentos.zip` com os mecanismos de ação ativados. A coluna `id` relaciona os experimentos aos resultados"
      ]
    },
    {
      "cell_type": "code",
      "metadata": {
        "id": "n5-IyMHegVBG"
      },
      "source": [
        "dados = pd.read_csv('https://github.com/alura-cursos/imersaodados3/blob/main/dados/dados_experimentos.zip?raw=true', compression='zip')\n",
        "dados_resultados = pd.read_csv('https://github.com/alura-cursos/imersaodados3/blob/main/dados/dados_resultados.csv?raw=true')"
      ],
      "execution_count": 98,
      "outputs": []
    },
    {
      "cell_type": "markdown",
      "metadata": {
        "id": "rQQcU3n-LYwl"
      },
      "source": [
        "O primeiro passo antes de analisarmos o dataset é verificar se há algum problema com as bases de dados"
      ]
    },
    {
      "cell_type": "code",
      "metadata": {
        "colab": {
          "base_uri": "https://localhost:8080/"
        },
        "id": "QCQsJo4mLoyD",
        "outputId": "d5489537-c647-4c48-ecc6-b9d1914c79ed"
      },
      "source": [
        "print('dados_experimentos.zip\\n')\n",
        "print(f'Quantidade de Linhas = {dados.shape[0]}')\n",
        "print(f'Quantidade de Colunas = {dados.shape[1]}\\n')\n",
        "\n",
        "print('====================\\n')\n",
        "\n",
        "print('dados_resultados.csv\\n')\n",
        "print(f'Quantidade de Linhas = {dados_resultados.shape[0]}')\n",
        "print(f'Quantidade de Colunas = {dados_resultados.shape[1]}')"
      ],
      "execution_count": 99,
      "outputs": [
        {
          "output_type": "stream",
          "text": [
            "dados_experimentos.zip\n",
            "\n",
            "Quantidade de Linhas = 23814\n",
            "Quantidade de Colunas = 877\n",
            "\n",
            "====================\n",
            "\n",
            "dados_resultados.csv\n",
            "\n",
            "Quantidade de Linhas = 23814\n",
            "Quantidade de Colunas = 207\n"
          ],
          "name": "stdout"
        }
      ]
    },
    {
      "cell_type": "code",
      "metadata": {
        "colab": {
          "base_uri": "https://localhost:8080/"
        },
        "id": "LR5uRRLcMdWE",
        "outputId": "2658f575-f05f-4ab2-d8fe-35ce34c55286"
      },
      "source": [
        "# Pega a coluna id do 2 datasets\n",
        "id_dados = dados['id'].unique()\n",
        "id_dados_resultados = dados_resultados['id'].unique()\n",
        "\n",
        "# Verifica se há algum id diferente\n",
        "if all(id_dados == id_dados_resultados):\n",
        "    print('Todos os ids tem seu correspondente no outro dataset')\n",
        "else:\n",
        "    print('Há uma inconsistẽncia no dataset. Verifique!')"
      ],
      "execution_count": 100,
      "outputs": [
        {
          "output_type": "stream",
          "text": [
            "Todos os ids tem seu correspondente no outro dataset\n"
          ],
          "name": "stdout"
        }
      ]
    },
    {
      "cell_type": "markdown",
      "metadata": {
        "id": "q7zxfUkZMRLX"
      },
      "source": [
        "A primeira verificação é para garantir que o número de linhas entre os dois datasets sao iguais.\n",
        "\n",
        "A segunda verificação era para garantir que um id tem seu correnpondente no outro dataset\n",
        "\n",
        "Todos as verificações se mostraram verdadeiras. Agora, será que há algum valor `NaN` (Not a Number) em nossos datasets?\n",
        "\n",
        "Vamos verificar!"
      ]
    },
    {
      "cell_type": "code",
      "metadata": {
        "colab": {
          "base_uri": "https://localhost:8080/"
        },
        "id": "tA7sYORQPJBV",
        "outputId": "46ded47f-63f7-43cc-b80f-303a12b72953"
      },
      "source": [
        "# Para dados_experimentais.zip\n",
        "if all(dados.isna().sum() != 0):\n",
        "    print('Há valor NaN')\n",
        "else:\n",
        "    print('Não valor NaN em dados_experimentais.zip')\n",
        "\n",
        "# Para dados_resultados.csv\n",
        "if all(dados_resultados.isna().sum() != 0):\n",
        "    print('Há valor NaN')\n",
        "else:\n",
        "    print('Não valor NaN em dados_resultados.csv')\n",
        "    "
      ],
      "execution_count": 101,
      "outputs": [
        {
          "output_type": "stream",
          "text": [
            "Não valor NaN em dados_experimentais.zip\n",
            "Não valor NaN em dados_resultados.csv\n"
          ],
          "name": "stdout"
        }
      ]
    },
    {
      "cell_type": "markdown",
      "metadata": {
        "id": "q5rchj8XQkTj"
      },
      "source": [
        "Agora podemos analisar as colunas categóricas de `dados_experimental.zip` (tratamento, tempo, dose, droga)"
      ]
    },
    {
      "cell_type": "code",
      "metadata": {
        "colab": {
          "base_uri": "https://localhost:8080/"
        },
        "id": "mmF6JjUDPMg9",
        "outputId": "bb8b2f08-e459-4947-cb87-d81d1c0dafdc"
      },
      "source": [
        "colunas_categoricas = ['tratamento', 'tempo', 'dose', 'droga']\n",
        "\n",
        "for coluna in colunas_categoricas:\n",
        "    print(f'A coluna {coluna} possui {dados[coluna].nunique() } categorias')"
      ],
      "execution_count": 102,
      "outputs": [
        {
          "output_type": "stream",
          "text": [
            "A coluna tratamento possui 2 categorias\n",
            "A coluna tempo possui 3 categorias\n",
            "A coluna dose possui 2 categorias\n",
            "A coluna droga possui 3289 categorias\n"
          ],
          "name": "stdout"
        }
      ]
    },
    {
      "cell_type": "markdown",
      "metadata": {
        "id": "Bgokjp3kTMo5"
      },
      "source": [
        "Para iniciar a exploração dos dados. Que tal colocarmos uma lupa em cada uma destas variáveis?\n",
        "\n",
        "Vamos lá?"
      ]
    },
    {
      "cell_type": "markdown",
      "metadata": {
        "id": "rS0Ce0lGE6pV"
      },
      "source": [
        "## Análise Exploratória dos Dados"
      ]
    },
    {
      "cell_type": "markdown",
      "metadata": {
        "id": "c8YXNFasUFX2"
      },
      "source": [
        "### Tratamento"
      ]
    },
    {
      "cell_type": "markdown",
      "metadata": {
        "id": "PNE-LDRjU0WC"
      },
      "source": [
        "#### Podemos dizer que o tipo de tratamento está dividido exatamente igual?"
      ]
    },
    {
      "cell_type": "code",
      "metadata": {
        "id": "FB9eIdfRejYB"
      },
      "source": [
        "sns.set(rc={'axes.facecolor':'f6f5f5', 'figure.facecolor':'f6f5f5'})"
      ],
      "execution_count": 103,
      "outputs": []
    },
    {
      "cell_type": "code",
      "metadata": {
        "colab": {
          "base_uri": "https://localhost:8080/",
          "height": 427
        },
        "id": "xwekN53lXZLN",
        "outputId": "e8390771-56b2-4a00-cb53-a18ba5420117"
      },
      "source": [
        "x = dados['tratamento'].value_counts()\n",
        "\n",
        "fig, ax = plt.subplots(figsize = (6,6), dpi = 70)\n",
        "\n",
        "\n",
        "sns.barplot(x=x.values, y=x.index, ax=ax)\n",
        "plt.text(x=-4150, y=0.00, s='Droga', fontdict={'family': 'Serif',\n",
        "                                                  'weight':'bold',\n",
        "                                                  'Size': '16',\n",
        "                                                  'style':'normal',\n",
        "                                                  'color':'#512b58'})\n",
        "\n",
        "plt.text(x=-5800, y=1.00, s='Controle', fontdict={'family': 'Serif',\n",
        "                                                  'weight':'bold',\n",
        "                                                  'Size': '16',\n",
        "                                                  'style':'normal',\n",
        "                                                  'color':'#512b58'})\n",
        "\n",
        "plt.text(x=-6150, y=-0.88,\n",
        "         s='Porcentagem de Experimentos',\n",
        "         fontdict={'family': 'Serif',\n",
        "                   'Size': '25',\n",
        "                   'weight':'bold',\n",
        "                   'color':'black'})\n",
        "\n",
        "plt.text(x=-6000, y=-0.63,\n",
        "         s='Há um grande desbalanceamento entre os experimentos \\ncontrole e experimentos que utilizam drogas', \n",
        "        fontdict={'family':'Serif', 'size':'17.5','color': 'black'})\n",
        "\n",
        "\n",
        "plt.text(x=22500, y=0.00, s='92%', fontdict={'family': 'Serif',\n",
        "                                            'weight':'bold',\n",
        "                                            'Size': '16',\n",
        "                                            'style':'normal',\n",
        "                                            'color':'#512b58'})\n",
        "\n",
        "plt.text(x=2800, y=1.00, s='8%', fontdict={'family': 'Serif',\n",
        "                                          'weight':'bold',\n",
        "                                          'Size': '16',\n",
        "                                          'style':'normal',\n",
        "                                          'color':'#512b58'})\n",
        "\n",
        "\n",
        "\n",
        "ax.axes.get_xaxis().set_visible(False)\n",
        "ax.axes.get_yaxis().set_visible(False)\n",
        "ax.spines['bottom'].set_visible(False)\n",
        "ax.spines['left'].set_visible(True)\n",
        "ax.spines['right'].set_visible(False)\n",
        "ax.spines['top'].set_visible(False)"
      ],
      "execution_count": 104,
      "outputs": [
        {
          "output_type": "display_data",
          "data": {
            "image/png": "[encoded data removed]",
            "text/plain": [
              "<Figure size 420x420 with 1 Axes>"
            ]
          },
          "metadata": {
            "tags": []
          }
        }
      ]
    },
    {
      "cell_type": "markdown",
      "metadata": {
        "id": "qTH926fAfUd6"
      },
      "source": [
        "Neste dataset analisado, podemos ver que temos mais experimentos utilizando drogas do que como controle.\n",
        "\n",
        "A explicação para isto é que o grupo controle pode servir para diversos experimentos que utilizam drogas.\n",
        "\n",
        "O grupo de controle permite que visa isolar apenas uma variavel do experimento. Em nosso caso, o grupo controle éstá sob as mesmas condições de conservação, exceto que não recebeu a droga.\n",
        "\n",
        "Um grupo de controle científico nos dá a possibilidade de avaliar uma variável por vez. Ao desenharmos os experimentos, submetemos um grupo as condições normais de funcionamento e um outro grupo mudamos apenas um aspecto. Para o primeiro grupo nós damos o nome de **grupo de controle** e para o segundo **estudo experimental**.\n",
        "\n",
        "Cabe ressaltar que não é necessário experimentos em pares, podemos testar diferentes compostos sob as mesmas condições de um único grupo de controle"
      ]
    },
    {
      "cell_type": "markdown",
      "metadata": {
        "id": "km3opts8VVXi"
      },
      "source": [
        "#### O que é colocado na coluna `droga` nas amostra do grupo de controle?"
      ]
    },
    {
      "cell_type": "code",
      "metadata": {
        "colab": {
          "base_uri": "https://localhost:8080/"
        },
        "id": "qe4YCv9MVepg",
        "outputId": "4145b2ac-c7db-4f5f-8aa4-182df6095397"
      },
      "source": [
        "dados_controle = dados[dados['tratamento'] == 'com_controle']\n",
        "print(dados_controle['droga'].unique())"
      ],
      "execution_count": 105,
      "outputs": [
        {
          "output_type": "stream",
          "text": [
            "['cacb2b860']\n"
          ],
          "name": "stdout"
        }
      ]
    },
    {
      "cell_type": "markdown",
      "metadata": {
        "id": "h9xdeSe-WA7Q"
      },
      "source": [
        "#### Se a droga utilizada é a `cacb2b860` ela tem dose diferentes?"
      ]
    },
    {
      "cell_type": "code",
      "metadata": {
        "colab": {
          "base_uri": "https://localhost:8080/"
        },
        "id": "-DjHzArEWIjO",
        "outputId": "ef78ab7a-95c1-4770-977d-7f9876947129"
      },
      "source": [
        "dados_controle['dose'].value_counts()"
      ],
      "execution_count": 106,
      "outputs": [
        {
          "output_type": "execute_result",
          "data": {
            "text/plain": [
              "D1    951\n",
              "D2    915\n",
              "Name: dose, dtype: int64"
            ]
          },
          "metadata": {
            "tags": []
          },
          "execution_count": 106
        }
      ]
    },
    {
      "cell_type": "markdown",
      "metadata": {
        "id": "m44S1qwOWaFM"
      },
      "source": [
        "O grupo de controle também são divididos de acordo com a dose?\n",
        "\n",
        "Você pode me perguntar como o grupo de controle pode ter dose se ele é exatamente a cultura de bacterias na mesma condições do experimento?\n",
        "\n",
        "E é exatamente por essa pergunta que podemos inferir que *TALVEZ* esta droga aplicada no grupo de controle seja um placebo, algo que não ative os mecanismos de ação das amostras. "
      ]
    },
    {
      "cell_type": "markdown",
      "metadata": {
        "id": "PZ6riHFkXeB-"
      },
      "source": [
        "### Tempo"
      ]
    },
    {
      "cell_type": "markdown",
      "metadata": {
        "id": "vp6e-1z3XnEu"
      },
      "source": [
        "#### E a variável `tempo`? É balanceada? "
      ]
    },
    {
      "cell_type": "code",
      "metadata": {
        "colab": {
          "base_uri": "https://localhost:8080/",
          "height": 301
        },
        "id": "IBmFaq9GvYbW",
        "outputId": "0b0b10ff-f7d7-494c-b801-33e111afb529"
      },
      "source": [
        "sns.countplot(data=dados, y='tempo')"
      ],
      "execution_count": 107,
      "outputs": [
        {
          "output_type": "execute_result",
          "data": {
            "text/plain": [
              "<matplotlib.axes._subplots.AxesSubplot at 0x7ff3678088d0>"
            ]
          },
          "metadata": {
            "tags": []
          },
          "execution_count": 107
        },
        {
          "output_type": "display_data",
          "data": {
            "image/png": "[encoded data removed]",
            "text/plain": [
              "<Figure size 432x288 with 1 Axes>"
            ]
          },
          "metadata": {
            "tags": []
          }
        }
      ]
    },
    {
      "cell_type": "markdown",
      "metadata": {
        "id": "XvaqMXVIZggx"
      },
      "source": [
        "A variável `tempo` está balanceada. Bem distribuída entre as 3 categorias (24, 48, 72). Esta observação tem sentido, pois se o experimento foi desenhado para fazer observações nestes momentos, espera-se que mais ou menos todas análises tenham sido feitas nos tempos marcados.\n",
        "\n",
        "A feature `tempo` é tempo decorrido desde a aplicação do composto até a observação. Então se a label na variável `tempo` é 24, aqueles dados refere-se à observação 24 horas depois da aplicação do composto."
      ]
    },
    {
      "cell_type": "markdown",
      "metadata": {
        "id": "IL9ViJ5zX6XJ"
      },
      "source": [
        "#### Eu vejo que ela não tem exatamente o mesmo número de observações o que é isso?"
      ]
    },
    {
      "cell_type": "code",
      "metadata": {
        "id": "BRVd4ug-YEnF"
      },
      "source": [
        ""
      ],
      "execution_count": 107,
      "outputs": []
    },
    {
      "cell_type": "markdown",
      "metadata": {
        "id": "zYzpJpKVYM4T"
      },
      "source": [
        "### Dose"
      ]
    },
    {
      "cell_type": "markdown",
      "metadata": {
        "id": "8vvfESStlRnE"
      },
      "source": [
        "#### Como está distribuída a variável `dose`?"
      ]
    },
    {
      "cell_type": "code",
      "metadata": {
        "colab": {
          "base_uri": "https://localhost:8080/",
          "height": 301
        },
        "id": "2mBA1kAcyVdt",
        "outputId": "481ed156-821c-47e8-a5ce-9c84e78e50c0"
      },
      "source": [
        "sns.countplot(data=dados, x='dose')"
      ],
      "execution_count": 108,
      "outputs": [
        {
          "output_type": "execute_result",
          "data": {
            "text/plain": [
              "<matplotlib.axes._subplots.AxesSubplot at 0x7ff36764e4d0>"
            ]
          },
          "metadata": {
            "tags": []
          },
          "execution_count": 108
        },
        {
          "output_type": "display_data",
          "data": {
            "image/png": "[encoded data removed]",
            "text/plain": [
              "<Figure size 432x288 with 1 Axes>"
            ]
          },
          "metadata": {
            "tags": []
          }
        }
      ]
    },
    {
      "cell_type": "markdown",
      "metadata": {
        "id": "IsVDwmH8ejzZ"
      },
      "source": [
        "A variável `dose` refere-se a dose aplicada do composto no experimento.\n",
        "\n",
        "O motivo de não revelarem qual dose é a maior é puramente para a eliminação de viés por quem analisa os dados. Este comportamento, de anonimizar os dados, está presente por todo dataset,"
      ]
    },
    {
      "cell_type": "markdown",
      "metadata": {
        "id": "as6N_JSOkXH8"
      },
      "source": [
        "Uma outra análise que podemos fazer é sobre o número de composto da base de dados"
      ]
    },
    {
      "cell_type": "markdown",
      "metadata": {
        "id": "xiER9XoOYPMf"
      },
      "source": [
        "### Drogas"
      ]
    },
    {
      "cell_type": "markdown",
      "metadata": {
        "id": "MDedAjIwZhT2"
      },
      "source": [
        "#### Quantas drogas há em nosso dataset?\n"
      ]
    },
    {
      "cell_type": "code",
      "metadata": {
        "colab": {
          "base_uri": "https://localhost:8080/"
        },
        "id": "hugtB266ZnJD",
        "outputId": "c1308ba6-2f95-4f2a-a46f-d527597307cf"
      },
      "source": [
        "qnt_drogas = dados['droga'].nunique()\n",
        "print(f'Há {qnt_drogas} em nosso dataset')"
      ],
      "execution_count": 109,
      "outputs": [
        {
          "output_type": "stream",
          "text": [
            "Há 3289 em nosso dataset\n"
          ],
          "name": "stdout"
        }
      ]
    },
    {
      "cell_type": "markdown",
      "metadata": {
        "id": "bDIbDnLaYgQk"
      },
      "source": [
        "#### Quais são as 5 drogas mais utilizadas?"
      ]
    },
    {
      "cell_type": "code",
      "metadata": {
        "colab": {
          "base_uri": "https://localhost:8080/",
          "height": 283
        },
        "id": "0XmAT__2IqwZ",
        "outputId": "d01da4de-82d2-4bc2-8832-abe256bdacb6"
      },
      "source": [
        "contagem_droga = dados['droga'].value_counts().sort_values(ascending=False)[1:6]\n",
        "sns.barplot(y=contagem_droga.index, x=contagem_droga.values)"
      ],
      "execution_count": 110,
      "outputs": [
        {
          "output_type": "execute_result",
          "data": {
            "text/plain": [
              "<matplotlib.axes._subplots.AxesSubplot at 0x7ff36759ddd0>"
            ]
          },
          "metadata": {
            "tags": []
          },
          "execution_count": 110
        },
        {
          "output_type": "display_data",
          "data": {
            "image/png": "[encoded data removed]",
            "text/plain": [
              "<Figure size 432x288 with 1 Axes>"
            ]
          },
          "metadata": {
            "tags": []
          }
        }
      ]
    },
    {
      "cell_type": "markdown",
      "metadata": {
        "id": "ApJQtOmXT8pG"
      },
      "source": [
        "Em nosso dataset, a droga mais utilizada é o placebo utilizado no grupo de controle. Ao retirarmos este rótulo, nosso Top 5 fica\n",
        "\n",
        "1. `87d714366`\n",
        "2. `9f80f3f77`\n",
        "3. `8b87a7a83`\n",
        "4. `5628cb3ee`\n",
        "5. `d08af5d4b`\n",
        "\n",
        "Aposto que você está se perguntando quais são estas drogas?\n",
        "\n",
        "Mais uma vez aquele padrão de anonimizar os dados para evitar viés por parte de quem os analisa."
      ]
    },
    {
      "cell_type": "markdown",
      "metadata": {
        "id": "z5qmJxZTcIvY"
      },
      "source": [
        "#### As mesmas drogas ativam mecanismos de ação diferentes?"
      ]
    },
    {
      "cell_type": "code",
      "metadata": {
        "id": "8mkpnJvDcccp"
      },
      "source": [
        ""
      ],
      "execution_count": 110,
      "outputs": []
    },
    {
      "cell_type": "markdown",
      "metadata": {
        "id": "xr0S2I_CKKQ3"
      },
      "source": [
        "### Mecanismos de Ação"
      ]
    },
    {
      "cell_type": "code",
      "metadata": {
        "id": "RqR5-dBtdbA_"
      },
      "source": [
        "dados_resultados['moa_ativados'] = ''\n",
        "\n",
        "for col_name in dados_resultados.columns:\n",
        "    dados_resultados.loc[dados_resultados[col_name] == 1, 'moa_ativados'] = dados_resultados['moa_ativados'] + ' | ' + col_name\n",
        "\n",
        "dados_resultados['moa_ativados'] = dados_resultados['moa_ativados'].str.lstrip('| ')"
      ],
      "execution_count": 111,
      "outputs": []
    },
    {
      "cell_type": "code",
      "metadata": {
        "colab": {
          "base_uri": "https://localhost:8080/",
          "height": 271
        },
        "id": "RJ-BhMARdbvP",
        "outputId": "bb327500-bb76-43f0-ce95-84adc66eb75e"
      },
      "source": [
        "dados_resultados['n_moa'] = dados_resultados.drop('id', axis=1).sum(axis=1)\n",
        "dados_resultados['ativo_moa'] = (dados_resultados['n_moa'] != 0)\n",
        "dados_resultados.head()"
      ],
      "execution_count": 112,
      "outputs": [
        {
          "output_type": "execute_result",
          "data": {
            "text/html": [
              "<div>\n",
              "<style scoped>\n",
              "    .dataframe tbody tr th:only-of-type {\n",
              "        vertical-align: middle;\n",
              "    }\n",
              "\n",
              "    .dataframe tbody tr th {\n",
              "        vertical-align: top;\n",
              "    }\n",
              "\n",
              "    .dataframe thead th {\n",
              "        text-align: right;\n",
              "    }\n",
              "</style>\n",
              "<table border=\"1\" class=\"dataframe\">\n",
              "  <thead>\n",
              "    <tr style=\"text-align: right;\">\n",
              "      <th></th>\n",
              "      <th>id</th>\n",
              "      <th>5-alpha_reductase_inhibitor</th>\n",
              "      <th>11-beta-hsd1_inhibitor</th>\n",
              "      <th>acat_inhibitor</th>\n",
              "      <th>acetylcholine_receptor_agonist</th>\n",
              "      <th>acetylcholine_receptor_antagonist</th>\n",
              "      <th>acetylcholinesterase_inhibitor</th>\n",
              "      <th>adenosine_receptor_agonist</th>\n",
              "      <th>adenosine_receptor_antagonist</th>\n",
              "      <th>adenylyl_cyclase_activator</th>\n",
              "      <th>adrenergic_receptor_agonist</th>\n",
              "      <th>adrenergic_receptor_antagonist</th>\n",
              "      <th>akt_inhibitor</th>\n",
              "      <th>aldehyde_dehydrogenase_inhibitor</th>\n",
              "      <th>alk_inhibitor</th>\n",
              "      <th>ampk_activator</th>\n",
              "      <th>analgesic</th>\n",
              "      <th>androgen_receptor_agonist</th>\n",
              "      <th>androgen_receptor_antagonist</th>\n",
              "      <th>anesthetic_-_local</th>\n",
              "      <th>angiogenesis_inhibitor</th>\n",
              "      <th>angiotensin_receptor_antagonist</th>\n",
              "      <th>anti-inflammatory</th>\n",
              "      <th>antiarrhythmic</th>\n",
              "      <th>antibiotic</th>\n",
              "      <th>anticonvulsant</th>\n",
              "      <th>antifungal</th>\n",
              "      <th>antihistamine</th>\n",
              "      <th>antimalarial</th>\n",
              "      <th>antioxidant</th>\n",
              "      <th>antiprotozoal</th>\n",
              "      <th>antiviral</th>\n",
              "      <th>apoptosis_stimulant</th>\n",
              "      <th>aromatase_inhibitor</th>\n",
              "      <th>atm_kinase_inhibitor</th>\n",
              "      <th>atp-sensitive_potassium_channel_antagonist</th>\n",
              "      <th>atp_synthase_inhibitor</th>\n",
              "      <th>atpase_inhibitor</th>\n",
              "      <th>atr_kinase_inhibitor</th>\n",
              "      <th>aurora_kinase_inhibitor</th>\n",
              "      <th>...</th>\n",
              "      <th>raf_inhibitor</th>\n",
              "      <th>ras_gtpase_inhibitor</th>\n",
              "      <th>retinoid_receptor_agonist</th>\n",
              "      <th>retinoid_receptor_antagonist</th>\n",
              "      <th>rho_associated_kinase_inhibitor</th>\n",
              "      <th>ribonucleoside_reductase_inhibitor</th>\n",
              "      <th>rna_polymerase_inhibitor</th>\n",
              "      <th>serotonin_receptor_agonist</th>\n",
              "      <th>serotonin_receptor_antagonist</th>\n",
              "      <th>serotonin_reuptake_inhibitor</th>\n",
              "      <th>sigma_receptor_agonist</th>\n",
              "      <th>sigma_receptor_antagonist</th>\n",
              "      <th>smoothened_receptor_antagonist</th>\n",
              "      <th>sodium_channel_inhibitor</th>\n",
              "      <th>sphingosine_receptor_agonist</th>\n",
              "      <th>src_inhibitor</th>\n",
              "      <th>steroid</th>\n",
              "      <th>syk_inhibitor</th>\n",
              "      <th>tachykinin_antagonist</th>\n",
              "      <th>tgf-beta_receptor_inhibitor</th>\n",
              "      <th>thrombin_inhibitor</th>\n",
              "      <th>thymidylate_synthase_inhibitor</th>\n",
              "      <th>tlr_agonist</th>\n",
              "      <th>tlr_antagonist</th>\n",
              "      <th>tnf_inhibitor</th>\n",
              "      <th>topoisomerase_inhibitor</th>\n",
              "      <th>transient_receptor_potential_channel_antagonist</th>\n",
              "      <th>tropomyosin_receptor_kinase_inhibitor</th>\n",
              "      <th>trpv_agonist</th>\n",
              "      <th>trpv_antagonist</th>\n",
              "      <th>tubulin_inhibitor</th>\n",
              "      <th>tyrosine_kinase_inhibitor</th>\n",
              "      <th>ubiquitin_specific_protease_inhibitor</th>\n",
              "      <th>vegfr_inhibitor</th>\n",
              "      <th>vitamin_b</th>\n",
              "      <th>vitamin_d_receptor_agonist</th>\n",
              "      <th>wnt_inhibitor</th>\n",
              "      <th>moa_ativados</th>\n",
              "      <th>n_moa</th>\n",
              "      <th>ativo_moa</th>\n",
              "    </tr>\n",
              "  </thead>\n",
              "  <tbody>\n",
              "    <tr>\n",
              "      <th>0</th>\n",
              "      <td>id_000644bb2</td>\n",
              "      <td>0</td>\n",
              "      <td>0</td>\n",
              "      <td>0</td>\n",
              "      <td>0</td>\n",
              "      <td>0</td>\n",
              "      <td>0</td>\n",
              "      <td>0</td>\n",
              "      <td>0</td>\n",
              "      <td>0</td>\n",
              "      <td>0</td>\n",
              "      <td>0</td>\n",
              "      <td>0</td>\n",
              "      <td>0</td>\n",
              "      <td>0</td>\n",
              "      <td>0</td>\n",
              "      <td>0</td>\n",
              "      <td>0</td>\n",
              "      <td>0</td>\n",
              "      <td>0</td>\n",
              "      <td>0</td>\n",
              "      <td>0</td>\n",
              "      <td>0</td>\n",
              "      <td>0</td>\n",
              "      <td>0</td>\n",
              "      <td>0</td>\n",
              "      <td>0</td>\n",
              "      <td>0</td>\n",
              "      <td>0</td>\n",
              "      <td>0</td>\n",
              "      <td>0</td>\n",
              "      <td>0</td>\n",
              "      <td>0</td>\n",
              "      <td>0</td>\n",
              "      <td>0</td>\n",
              "      <td>0</td>\n",
              "      <td>0</td>\n",
              "      <td>0</td>\n",
              "      <td>0</td>\n",
              "      <td>0</td>\n",
              "      <td>...</td>\n",
              "      <td>0</td>\n",
              "      <td>0</td>\n",
              "      <td>0</td>\n",
              "      <td>0</td>\n",
              "      <td>0</td>\n",
              "      <td>0</td>\n",
              "      <td>0</td>\n",
              "      <td>0</td>\n",
              "      <td>0</td>\n",
              "      <td>0</td>\n",
              "      <td>0</td>\n",
              "      <td>0</td>\n",
              "      <td>0</td>\n",
              "      <td>0</td>\n",
              "      <td>0</td>\n",
              "      <td>0</td>\n",
              "      <td>0</td>\n",
              "      <td>0</td>\n",
              "      <td>0</td>\n",
              "      <td>0</td>\n",
              "      <td>0</td>\n",
              "      <td>0</td>\n",
              "      <td>0</td>\n",
              "      <td>0</td>\n",
              "      <td>0</td>\n",
              "      <td>0</td>\n",
              "      <td>0</td>\n",
              "      <td>0</td>\n",
              "      <td>0</td>\n",
              "      <td>0</td>\n",
              "      <td>0</td>\n",
              "      <td>0</td>\n",
              "      <td>0</td>\n",
              "      <td>0</td>\n",
              "      <td>0</td>\n",
              "      <td>0</td>\n",
              "      <td>0</td>\n",
              "      <td>gsk_inhibitor</td>\n",
              "      <td>1</td>\n",
              "      <td>True</td>\n",
              "    </tr>\n",
              "    <tr>\n",
              "      <th>1</th>\n",
              "      <td>id_000779bfc</td>\n",
              "      <td>0</td>\n",
              "      <td>0</td>\n",
              "      <td>0</td>\n",
              "      <td>0</td>\n",
              "      <td>0</td>\n",
              "      <td>0</td>\n",
              "      <td>0</td>\n",
              "      <td>0</td>\n",
              "      <td>0</td>\n",
              "      <td>0</td>\n",
              "      <td>0</td>\n",
              "      <td>0</td>\n",
              "      <td>0</td>\n",
              "      <td>0</td>\n",
              "      <td>0</td>\n",
              "      <td>0</td>\n",
              "      <td>0</td>\n",
              "      <td>0</td>\n",
              "      <td>0</td>\n",
              "      <td>0</td>\n",
              "      <td>0</td>\n",
              "      <td>0</td>\n",
              "      <td>0</td>\n",
              "      <td>0</td>\n",
              "      <td>0</td>\n",
              "      <td>0</td>\n",
              "      <td>0</td>\n",
              "      <td>0</td>\n",
              "      <td>0</td>\n",
              "      <td>0</td>\n",
              "      <td>0</td>\n",
              "      <td>0</td>\n",
              "      <td>0</td>\n",
              "      <td>0</td>\n",
              "      <td>0</td>\n",
              "      <td>0</td>\n",
              "      <td>0</td>\n",
              "      <td>0</td>\n",
              "      <td>0</td>\n",
              "      <td>...</td>\n",
              "      <td>0</td>\n",
              "      <td>0</td>\n",
              "      <td>0</td>\n",
              "      <td>0</td>\n",
              "      <td>0</td>\n",
              "      <td>0</td>\n",
              "      <td>0</td>\n",
              "      <td>0</td>\n",
              "      <td>0</td>\n",
              "      <td>0</td>\n",
              "      <td>0</td>\n",
              "      <td>0</td>\n",
              "      <td>0</td>\n",
              "      <td>0</td>\n",
              "      <td>0</td>\n",
              "      <td>0</td>\n",
              "      <td>0</td>\n",
              "      <td>0</td>\n",
              "      <td>0</td>\n",
              "      <td>0</td>\n",
              "      <td>0</td>\n",
              "      <td>0</td>\n",
              "      <td>0</td>\n",
              "      <td>0</td>\n",
              "      <td>0</td>\n",
              "      <td>0</td>\n",
              "      <td>0</td>\n",
              "      <td>0</td>\n",
              "      <td>0</td>\n",
              "      <td>0</td>\n",
              "      <td>0</td>\n",
              "      <td>0</td>\n",
              "      <td>0</td>\n",
              "      <td>0</td>\n",
              "      <td>0</td>\n",
              "      <td>0</td>\n",
              "      <td>0</td>\n",
              "      <td></td>\n",
              "      <td>0</td>\n",
              "      <td>False</td>\n",
              "    </tr>\n",
              "    <tr>\n",
              "      <th>2</th>\n",
              "      <td>id_000a6266a</td>\n",
              "      <td>0</td>\n",
              "      <td>0</td>\n",
              "      <td>0</td>\n",
              "      <td>0</td>\n",
              "      <td>0</td>\n",
              "      <td>0</td>\n",
              "      <td>0</td>\n",
              "      <td>0</td>\n",
              "      <td>0</td>\n",
              "      <td>0</td>\n",
              "      <td>0</td>\n",
              "      <td>0</td>\n",
              "      <td>0</td>\n",
              "      <td>0</td>\n",
              "      <td>0</td>\n",
              "      <td>0</td>\n",
              "      <td>0</td>\n",
              "      <td>0</td>\n",
              "      <td>0</td>\n",
              "      <td>0</td>\n",
              "      <td>0</td>\n",
              "      <td>0</td>\n",
              "      <td>0</td>\n",
              "      <td>0</td>\n",
              "      <td>0</td>\n",
              "      <td>0</td>\n",
              "      <td>0</td>\n",
              "      <td>0</td>\n",
              "      <td>0</td>\n",
              "      <td>0</td>\n",
              "      <td>0</td>\n",
              "      <td>0</td>\n",
              "      <td>0</td>\n",
              "      <td>0</td>\n",
              "      <td>0</td>\n",
              "      <td>0</td>\n",
              "      <td>0</td>\n",
              "      <td>0</td>\n",
              "      <td>0</td>\n",
              "      <td>...</td>\n",
              "      <td>0</td>\n",
              "      <td>0</td>\n",
              "      <td>0</td>\n",
              "      <td>0</td>\n",
              "      <td>0</td>\n",
              "      <td>0</td>\n",
              "      <td>0</td>\n",
              "      <td>0</td>\n",
              "      <td>0</td>\n",
              "      <td>0</td>\n",
              "      <td>0</td>\n",
              "      <td>0</td>\n",
              "      <td>0</td>\n",
              "      <td>0</td>\n",
              "      <td>0</td>\n",
              "      <td>0</td>\n",
              "      <td>0</td>\n",
              "      <td>0</td>\n",
              "      <td>0</td>\n",
              "      <td>0</td>\n",
              "      <td>0</td>\n",
              "      <td>0</td>\n",
              "      <td>0</td>\n",
              "      <td>0</td>\n",
              "      <td>0</td>\n",
              "      <td>0</td>\n",
              "      <td>0</td>\n",
              "      <td>0</td>\n",
              "      <td>0</td>\n",
              "      <td>0</td>\n",
              "      <td>0</td>\n",
              "      <td>0</td>\n",
              "      <td>0</td>\n",
              "      <td>0</td>\n",
              "      <td>0</td>\n",
              "      <td>0</td>\n",
              "      <td>0</td>\n",
              "      <td>bcr-abl_inhibitor | kit_inhibitor | pdgfr_inhi...</td>\n",
              "      <td>3</td>\n",
              "      <td>True</td>\n",
              "    </tr>\n",
              "    <tr>\n",
              "      <th>3</th>\n",
              "      <td>id_0015fd391</td>\n",
              "      <td>0</td>\n",
              "      <td>0</td>\n",
              "      <td>0</td>\n",
              "      <td>0</td>\n",
              "      <td>0</td>\n",
              "      <td>0</td>\n",
              "      <td>0</td>\n",
              "      <td>0</td>\n",
              "      <td>0</td>\n",
              "      <td>0</td>\n",
              "      <td>0</td>\n",
              "      <td>0</td>\n",
              "      <td>0</td>\n",
              "      <td>0</td>\n",
              "      <td>0</td>\n",
              "      <td>0</td>\n",
              "      <td>0</td>\n",
              "      <td>0</td>\n",
              "      <td>0</td>\n",
              "      <td>0</td>\n",
              "      <td>0</td>\n",
              "      <td>0</td>\n",
              "      <td>0</td>\n",
              "      <td>0</td>\n",
              "      <td>0</td>\n",
              "      <td>0</td>\n",
              "      <td>0</td>\n",
              "      <td>0</td>\n",
              "      <td>0</td>\n",
              "      <td>0</td>\n",
              "      <td>0</td>\n",
              "      <td>0</td>\n",
              "      <td>0</td>\n",
              "      <td>0</td>\n",
              "      <td>0</td>\n",
              "      <td>0</td>\n",
              "      <td>0</td>\n",
              "      <td>0</td>\n",
              "      <td>0</td>\n",
              "      <td>...</td>\n",
              "      <td>0</td>\n",
              "      <td>0</td>\n",
              "      <td>0</td>\n",
              "      <td>0</td>\n",
              "      <td>0</td>\n",
              "      <td>0</td>\n",
              "      <td>0</td>\n",
              "      <td>0</td>\n",
              "      <td>0</td>\n",
              "      <td>0</td>\n",
              "      <td>0</td>\n",
              "      <td>0</td>\n",
              "      <td>0</td>\n",
              "      <td>0</td>\n",
              "      <td>0</td>\n",
              "      <td>0</td>\n",
              "      <td>0</td>\n",
              "      <td>0</td>\n",
              "      <td>0</td>\n",
              "      <td>0</td>\n",
              "      <td>0</td>\n",
              "      <td>0</td>\n",
              "      <td>0</td>\n",
              "      <td>0</td>\n",
              "      <td>0</td>\n",
              "      <td>0</td>\n",
              "      <td>0</td>\n",
              "      <td>0</td>\n",
              "      <td>0</td>\n",
              "      <td>0</td>\n",
              "      <td>0</td>\n",
              "      <td>0</td>\n",
              "      <td>0</td>\n",
              "      <td>0</td>\n",
              "      <td>0</td>\n",
              "      <td>0</td>\n",
              "      <td>0</td>\n",
              "      <td></td>\n",
              "      <td>0</td>\n",
              "      <td>False</td>\n",
              "    </tr>\n",
              "    <tr>\n",
              "      <th>4</th>\n",
              "      <td>id_001626bd3</td>\n",
              "      <td>0</td>\n",
              "      <td>0</td>\n",
              "      <td>0</td>\n",
              "      <td>0</td>\n",
              "      <td>0</td>\n",
              "      <td>0</td>\n",
              "      <td>0</td>\n",
              "      <td>0</td>\n",
              "      <td>0</td>\n",
              "      <td>0</td>\n",
              "      <td>0</td>\n",
              "      <td>0</td>\n",
              "      <td>0</td>\n",
              "      <td>0</td>\n",
              "      <td>0</td>\n",
              "      <td>0</td>\n",
              "      <td>0</td>\n",
              "      <td>0</td>\n",
              "      <td>0</td>\n",
              "      <td>0</td>\n",
              "      <td>0</td>\n",
              "      <td>0</td>\n",
              "      <td>0</td>\n",
              "      <td>0</td>\n",
              "      <td>0</td>\n",
              "      <td>0</td>\n",
              "      <td>0</td>\n",
              "      <td>0</td>\n",
              "      <td>0</td>\n",
              "      <td>0</td>\n",
              "      <td>0</td>\n",
              "      <td>0</td>\n",
              "      <td>0</td>\n",
              "      <td>0</td>\n",
              "      <td>0</td>\n",
              "      <td>0</td>\n",
              "      <td>0</td>\n",
              "      <td>0</td>\n",
              "      <td>0</td>\n",
              "      <td>...</td>\n",
              "      <td>0</td>\n",
              "      <td>0</td>\n",
              "      <td>0</td>\n",
              "      <td>0</td>\n",
              "      <td>0</td>\n",
              "      <td>0</td>\n",
              "      <td>0</td>\n",
              "      <td>0</td>\n",
              "      <td>0</td>\n",
              "      <td>0</td>\n",
              "      <td>0</td>\n",
              "      <td>0</td>\n",
              "      <td>0</td>\n",
              "      <td>0</td>\n",
              "      <td>0</td>\n",
              "      <td>0</td>\n",
              "      <td>0</td>\n",
              "      <td>0</td>\n",
              "      <td>0</td>\n",
              "      <td>0</td>\n",
              "      <td>0</td>\n",
              "      <td>0</td>\n",
              "      <td>0</td>\n",
              "      <td>0</td>\n",
              "      <td>0</td>\n",
              "      <td>0</td>\n",
              "      <td>0</td>\n",
              "      <td>0</td>\n",
              "      <td>0</td>\n",
              "      <td>0</td>\n",
              "      <td>0</td>\n",
              "      <td>0</td>\n",
              "      <td>0</td>\n",
              "      <td>0</td>\n",
              "      <td>0</td>\n",
              "      <td>0</td>\n",
              "      <td>0</td>\n",
              "      <td>calcium_channel_blocker</td>\n",
              "      <td>1</td>\n",
              "      <td>True</td>\n",
              "    </tr>\n",
              "  </tbody>\n",
              "</table>\n",
              "<p>5 rows × 210 columns</p>\n",
              "</div>"
            ],
            "text/plain": [
              "             id  5-alpha_reductase_inhibitor  ...  n_moa  ativo_moa\n",
              "0  id_000644bb2                            0  ...      1       True\n",
              "1  id_000779bfc                            0  ...      0      False\n",
              "2  id_000a6266a                            0  ...      3       True\n",
              "3  id_0015fd391                            0  ...      0      False\n",
              "4  id_001626bd3                            0  ...      1       True\n",
              "\n",
              "[5 rows x 210 columns]"
            ]
          },
          "metadata": {
            "tags": []
          },
          "execution_count": 112
        }
      ]
    },
    {
      "cell_type": "markdown",
      "metadata": {
        "id": "p4UjFumMclKN"
      },
      "source": [
        "#### Quantos Mecanismos de ação há em nosso dataset"
      ]
    },
    {
      "cell_type": "code",
      "metadata": {
        "colab": {
          "base_uri": "https://localhost:8080/"
        },
        "id": "2QRca1fsck1h",
        "outputId": "e4a8e75d-5ddd-4d19-866e-1018e104329e"
      },
      "source": [
        "qnt_moa = len(dados_resultados.columns) - 4\n",
        "print(f'Há {qnt_moa} em nosso dataset')"
      ],
      "execution_count": 113,
      "outputs": [
        {
          "output_type": "stream",
          "text": [
            "Há 206 em nosso dataset\n"
          ],
          "name": "stdout"
        }
      ]
    },
    {
      "cell_type": "markdown",
      "metadata": {
        "id": "sqY8VlhfdJ4L"
      },
      "source": [
        "#### Como estão distribuídas o número de MoA?"
      ]
    },
    {
      "cell_type": "code",
      "metadata": {
        "colab": {
          "base_uri": "https://localhost:8080/",
          "height": 301
        },
        "id": "ROPgR-DBdTAt",
        "outputId": "036762f2-7bea-43eb-e4d8-c8ebbedf7cdd"
      },
      "source": [
        "qnt_cat_n_moa = dados_resultados['n_moa'].value_counts().sort_values(ascending=False)\n",
        "qnt_cat_n_moa = qnt_cat_n_moa.reset_index()\n",
        "qnt_cat_n_moa.columns = ['cat_n_moa', 'quantidades']\n",
        "\n",
        "quantidade_2_ou_mais = qnt_cat_n_moa.loc[2:7]['quantidades'].sum()\n",
        "\n",
        "df_cat_2_ou_mais = pd.DataFrame([['2 ou mais', quantidade_2_ou_mais]],\n",
        "                                columns=['cat_n_moa', 'quantidades'])\n",
        "\n",
        "qnt_cat_n_moa = qnt_cat_n_moa.drop([2,3,4,5,6]).append(df_cat_2_ou_mais, ignore_index=True)\n",
        "\n",
        "sns.barplot(data=qnt_cat_n_moa, y='quantidades', x='cat_n_moa')"
      ],
      "execution_count": 114,
      "outputs": [
        {
          "output_type": "execute_result",
          "data": {
            "text/plain": [
              "<matplotlib.axes._subplots.AxesSubplot at 0x7ff3670a9750>"
            ]
          },
          "metadata": {
            "tags": []
          },
          "execution_count": 114
        },
        {
          "output_type": "display_data",
          "data": {
            "image/png": "[encoded data removed]",
            "text/plain": [
              "<Figure size 432x288 with 1 Axes>"
            ]
          },
          "metadata": {
            "tags": []
          }
        }
      ]
    },
    {
      "cell_type": "code",
      "metadata": {
        "colab": {
          "base_uri": "https://localhost:8080/",
          "height": 271
        },
        "id": "p0SK5RZWcN1Y",
        "outputId": "b4a04232-1de1-4b4b-9584-84440baff5ea"
      },
      "source": [
        "dados_resultados['n_moa'] = dados_resultados.drop('id', axis=1).sum(axis=1)\n",
        "dados_resultados['ativo_moa'] = (dados_resultados['n_moa'] != 0)\n",
        "dados_resultados.head()"
      ],
      "execution_count": 115,
      "outputs": [
        {
          "output_type": "execute_result",
          "data": {
            "text/html": [
              "<div>\n",
              "<style scoped>\n",
              "    .dataframe tbody tr th:only-of-type {\n",
              "        vertical-align: middle;\n",
              "    }\n",
              "\n",
              "    .dataframe tbody tr th {\n",
              "        vertical-align: top;\n",
              "    }\n",
              "\n",
              "    .dataframe thead th {\n",
              "        text-align: right;\n",
              "    }\n",
              "</style>\n",
              "<table border=\"1\" class=\"dataframe\">\n",
              "  <thead>\n",
              "    <tr style=\"text-align: right;\">\n",
              "      <th></th>\n",
              "      <th>id</th>\n",
              "      <th>5-alpha_reductase_inhibitor</th>\n",
              "      <th>11-beta-hsd1_inhibitor</th>\n",
              "      <th>acat_inhibitor</th>\n",
              "      <th>acetylcholine_receptor_agonist</th>\n",
              "      <th>acetylcholine_receptor_antagonist</th>\n",
              "      <th>acetylcholinesterase_inhibitor</th>\n",
              "      <th>adenosine_receptor_agonist</th>\n",
              "      <th>adenosine_receptor_antagonist</th>\n",
              "      <th>adenylyl_cyclase_activator</th>\n",
              "      <th>adrenergic_receptor_agonist</th>\n",
              "      <th>adrenergic_receptor_antagonist</th>\n",
              "      <th>akt_inhibitor</th>\n",
              "      <th>aldehyde_dehydrogenase_inhibitor</th>\n",
              "      <th>alk_inhibitor</th>\n",
              "      <th>ampk_activator</th>\n",
              "      <th>analgesic</th>\n",
              "      <th>androgen_receptor_agonist</th>\n",
              "      <th>androgen_receptor_antagonist</th>\n",
              "      <th>anesthetic_-_local</th>\n",
              "      <th>angiogenesis_inhibitor</th>\n",
              "      <th>angiotensin_receptor_antagonist</th>\n",
              "      <th>anti-inflammatory</th>\n",
              "      <th>antiarrhythmic</th>\n",
              "      <th>antibiotic</th>\n",
              "      <th>anticonvulsant</th>\n",
              "      <th>antifungal</th>\n",
              "      <th>antihistamine</th>\n",
              "      <th>antimalarial</th>\n",
              "      <th>antioxidant</th>\n",
              "      <th>antiprotozoal</th>\n",
              "      <th>antiviral</th>\n",
              "      <th>apoptosis_stimulant</th>\n",
              "      <th>aromatase_inhibitor</th>\n",
              "      <th>atm_kinase_inhibitor</th>\n",
              "      <th>atp-sensitive_potassium_channel_antagonist</th>\n",
              "      <th>atp_synthase_inhibitor</th>\n",
              "      <th>atpase_inhibitor</th>\n",
              "      <th>atr_kinase_inhibitor</th>\n",
              "      <th>aurora_kinase_inhibitor</th>\n",
              "      <th>...</th>\n",
              "      <th>raf_inhibitor</th>\n",
              "      <th>ras_gtpase_inhibitor</th>\n",
              "      <th>retinoid_receptor_agonist</th>\n",
              "      <th>retinoid_receptor_antagonist</th>\n",
              "      <th>rho_associated_kinase_inhibitor</th>\n",
              "      <th>ribonucleoside_reductase_inhibitor</th>\n",
              "      <th>rna_polymerase_inhibitor</th>\n",
              "      <th>serotonin_receptor_agonist</th>\n",
              "      <th>serotonin_receptor_antagonist</th>\n",
              "      <th>serotonin_reuptake_inhibitor</th>\n",
              "      <th>sigma_receptor_agonist</th>\n",
              "      <th>sigma_receptor_antagonist</th>\n",
              "      <th>smoothened_receptor_antagonist</th>\n",
              "      <th>sodium_channel_inhibitor</th>\n",
              "      <th>sphingosine_receptor_agonist</th>\n",
              "      <th>src_inhibitor</th>\n",
              "      <th>steroid</th>\n",
              "      <th>syk_inhibitor</th>\n",
              "      <th>tachykinin_antagonist</th>\n",
              "      <th>tgf-beta_receptor_inhibitor</th>\n",
              "      <th>thrombin_inhibitor</th>\n",
              "      <th>thymidylate_synthase_inhibitor</th>\n",
              "      <th>tlr_agonist</th>\n",
              "      <th>tlr_antagonist</th>\n",
              "      <th>tnf_inhibitor</th>\n",
              "      <th>topoisomerase_inhibitor</th>\n",
              "      <th>transient_receptor_potential_channel_antagonist</th>\n",
              "      <th>tropomyosin_receptor_kinase_inhibitor</th>\n",
              "      <th>trpv_agonist</th>\n",
              "      <th>trpv_antagonist</th>\n",
              "      <th>tubulin_inhibitor</th>\n",
              "      <th>tyrosine_kinase_inhibitor</th>\n",
              "      <th>ubiquitin_specific_protease_inhibitor</th>\n",
              "      <th>vegfr_inhibitor</th>\n",
              "      <th>vitamin_b</th>\n",
              "      <th>vitamin_d_receptor_agonist</th>\n",
              "      <th>wnt_inhibitor</th>\n",
              "      <th>moa_ativados</th>\n",
              "      <th>n_moa</th>\n",
              "      <th>ativo_moa</th>\n",
              "    </tr>\n",
              "  </thead>\n",
              "  <tbody>\n",
              "    <tr>\n",
              "      <th>0</th>\n",
              "      <td>id_000644bb2</td>\n",
              "      <td>0</td>\n",
              "      <td>0</td>\n",
              "      <td>0</td>\n",
              "      <td>0</td>\n",
              "      <td>0</td>\n",
              "      <td>0</td>\n",
              "      <td>0</td>\n",
              "      <td>0</td>\n",
              "      <td>0</td>\n",
              "      <td>0</td>\n",
              "      <td>0</td>\n",
              "      <td>0</td>\n",
              "      <td>0</td>\n",
              "      <td>0</td>\n",
              "      <td>0</td>\n",
              "      <td>0</td>\n",
              "      <td>0</td>\n",
              "      <td>0</td>\n",
              "      <td>0</td>\n",
              "      <td>0</td>\n",
              "      <td>0</td>\n",
              "      <td>0</td>\n",
              "      <td>0</td>\n",
              "      <td>0</td>\n",
              "      <td>0</td>\n",
              "      <td>0</td>\n",
              "      <td>0</td>\n",
              "      <td>0</td>\n",
              "      <td>0</td>\n",
              "      <td>0</td>\n",
              "      <td>0</td>\n",
              "      <td>0</td>\n",
              "      <td>0</td>\n",
              "      <td>0</td>\n",
              "      <td>0</td>\n",
              "      <td>0</td>\n",
              "      <td>0</td>\n",
              "      <td>0</td>\n",
              "      <td>0</td>\n",
              "      <td>...</td>\n",
              "      <td>0</td>\n",
              "      <td>0</td>\n",
              "      <td>0</td>\n",
              "      <td>0</td>\n",
              "      <td>0</td>\n",
              "      <td>0</td>\n",
              "      <td>0</td>\n",
              "      <td>0</td>\n",
              "      <td>0</td>\n",
              "      <td>0</td>\n",
              "      <td>0</td>\n",
              "      <td>0</td>\n",
              "      <td>0</td>\n",
              "      <td>0</td>\n",
              "      <td>0</td>\n",
              "      <td>0</td>\n",
              "      <td>0</td>\n",
              "      <td>0</td>\n",
              "      <td>0</td>\n",
              "      <td>0</td>\n",
              "      <td>0</td>\n",
              "      <td>0</td>\n",
              "      <td>0</td>\n",
              "      <td>0</td>\n",
              "      <td>0</td>\n",
              "      <td>0</td>\n",
              "      <td>0</td>\n",
              "      <td>0</td>\n",
              "      <td>0</td>\n",
              "      <td>0</td>\n",
              "      <td>0</td>\n",
              "      <td>0</td>\n",
              "      <td>0</td>\n",
              "      <td>0</td>\n",
              "      <td>0</td>\n",
              "      <td>0</td>\n",
              "      <td>0</td>\n",
              "      <td>gsk_inhibitor</td>\n",
              "      <td>3.0</td>\n",
              "      <td>True</td>\n",
              "    </tr>\n",
              "    <tr>\n",
              "      <th>1</th>\n",
              "      <td>id_000779bfc</td>\n",
              "      <td>0</td>\n",
              "      <td>0</td>\n",
              "      <td>0</td>\n",
              "      <td>0</td>\n",
              "      <td>0</td>\n",
              "      <td>0</td>\n",
              "      <td>0</td>\n",
              "      <td>0</td>\n",
              "      <td>0</td>\n",
              "      <td>0</td>\n",
              "      <td>0</td>\n",
              "      <td>0</td>\n",
              "      <td>0</td>\n",
              "      <td>0</td>\n",
              "      <td>0</td>\n",
              "      <td>0</td>\n",
              "      <td>0</td>\n",
              "      <td>0</td>\n",
              "      <td>0</td>\n",
              "      <td>0</td>\n",
              "      <td>0</td>\n",
              "      <td>0</td>\n",
              "      <td>0</td>\n",
              "      <td>0</td>\n",
              "      <td>0</td>\n",
              "      <td>0</td>\n",
              "      <td>0</td>\n",
              "      <td>0</td>\n",
              "      <td>0</td>\n",
              "      <td>0</td>\n",
              "      <td>0</td>\n",
              "      <td>0</td>\n",
              "      <td>0</td>\n",
              "      <td>0</td>\n",
              "      <td>0</td>\n",
              "      <td>0</td>\n",
              "      <td>0</td>\n",
              "      <td>0</td>\n",
              "      <td>0</td>\n",
              "      <td>...</td>\n",
              "      <td>0</td>\n",
              "      <td>0</td>\n",
              "      <td>0</td>\n",
              "      <td>0</td>\n",
              "      <td>0</td>\n",
              "      <td>0</td>\n",
              "      <td>0</td>\n",
              "      <td>0</td>\n",
              "      <td>0</td>\n",
              "      <td>0</td>\n",
              "      <td>0</td>\n",
              "      <td>0</td>\n",
              "      <td>0</td>\n",
              "      <td>0</td>\n",
              "      <td>0</td>\n",
              "      <td>0</td>\n",
              "      <td>0</td>\n",
              "      <td>0</td>\n",
              "      <td>0</td>\n",
              "      <td>0</td>\n",
              "      <td>0</td>\n",
              "      <td>0</td>\n",
              "      <td>0</td>\n",
              "      <td>0</td>\n",
              "      <td>0</td>\n",
              "      <td>0</td>\n",
              "      <td>0</td>\n",
              "      <td>0</td>\n",
              "      <td>0</td>\n",
              "      <td>0</td>\n",
              "      <td>0</td>\n",
              "      <td>0</td>\n",
              "      <td>0</td>\n",
              "      <td>0</td>\n",
              "      <td>0</td>\n",
              "      <td>0</td>\n",
              "      <td>0</td>\n",
              "      <td></td>\n",
              "      <td>0.0</td>\n",
              "      <td>False</td>\n",
              "    </tr>\n",
              "    <tr>\n",
              "      <th>2</th>\n",
              "      <td>id_000a6266a</td>\n",
              "      <td>0</td>\n",
              "      <td>0</td>\n",
              "      <td>0</td>\n",
              "      <td>0</td>\n",
              "      <td>0</td>\n",
              "      <td>0</td>\n",
              "      <td>0</td>\n",
              "      <td>0</td>\n",
              "      <td>0</td>\n",
              "      <td>0</td>\n",
              "      <td>0</td>\n",
              "      <td>0</td>\n",
              "      <td>0</td>\n",
              "      <td>0</td>\n",
              "      <td>0</td>\n",
              "      <td>0</td>\n",
              "      <td>0</td>\n",
              "      <td>0</td>\n",
              "      <td>0</td>\n",
              "      <td>0</td>\n",
              "      <td>0</td>\n",
              "      <td>0</td>\n",
              "      <td>0</td>\n",
              "      <td>0</td>\n",
              "      <td>0</td>\n",
              "      <td>0</td>\n",
              "      <td>0</td>\n",
              "      <td>0</td>\n",
              "      <td>0</td>\n",
              "      <td>0</td>\n",
              "      <td>0</td>\n",
              "      <td>0</td>\n",
              "      <td>0</td>\n",
              "      <td>0</td>\n",
              "      <td>0</td>\n",
              "      <td>0</td>\n",
              "      <td>0</td>\n",
              "      <td>0</td>\n",
              "      <td>0</td>\n",
              "      <td>...</td>\n",
              "      <td>0</td>\n",
              "      <td>0</td>\n",
              "      <td>0</td>\n",
              "      <td>0</td>\n",
              "      <td>0</td>\n",
              "      <td>0</td>\n",
              "      <td>0</td>\n",
              "      <td>0</td>\n",
              "      <td>0</td>\n",
              "      <td>0</td>\n",
              "      <td>0</td>\n",
              "      <td>0</td>\n",
              "      <td>0</td>\n",
              "      <td>0</td>\n",
              "      <td>0</td>\n",
              "      <td>0</td>\n",
              "      <td>0</td>\n",
              "      <td>0</td>\n",
              "      <td>0</td>\n",
              "      <td>0</td>\n",
              "      <td>0</td>\n",
              "      <td>0</td>\n",
              "      <td>0</td>\n",
              "      <td>0</td>\n",
              "      <td>0</td>\n",
              "      <td>0</td>\n",
              "      <td>0</td>\n",
              "      <td>0</td>\n",
              "      <td>0</td>\n",
              "      <td>0</td>\n",
              "      <td>0</td>\n",
              "      <td>0</td>\n",
              "      <td>0</td>\n",
              "      <td>0</td>\n",
              "      <td>0</td>\n",
              "      <td>0</td>\n",
              "      <td>0</td>\n",
              "      <td>bcr-abl_inhibitor | kit_inhibitor | pdgfr_inhi...</td>\n",
              "      <td>7.0</td>\n",
              "      <td>True</td>\n",
              "    </tr>\n",
              "    <tr>\n",
              "      <th>3</th>\n",
              "      <td>id_0015fd391</td>\n",
              "      <td>0</td>\n",
              "      <td>0</td>\n",
              "      <td>0</td>\n",
              "      <td>0</td>\n",
              "      <td>0</td>\n",
              "      <td>0</td>\n",
              "      <td>0</td>\n",
              "      <td>0</td>\n",
              "      <td>0</td>\n",
              "      <td>0</td>\n",
              "      <td>0</td>\n",
              "      <td>0</td>\n",
              "      <td>0</td>\n",
              "      <td>0</td>\n",
              "      <td>0</td>\n",
              "      <td>0</td>\n",
              "      <td>0</td>\n",
              "      <td>0</td>\n",
              "      <td>0</td>\n",
              "      <td>0</td>\n",
              "      <td>0</td>\n",
              "      <td>0</td>\n",
              "      <td>0</td>\n",
              "      <td>0</td>\n",
              "      <td>0</td>\n",
              "      <td>0</td>\n",
              "      <td>0</td>\n",
              "      <td>0</td>\n",
              "      <td>0</td>\n",
              "      <td>0</td>\n",
              "      <td>0</td>\n",
              "      <td>0</td>\n",
              "      <td>0</td>\n",
              "      <td>0</td>\n",
              "      <td>0</td>\n",
              "      <td>0</td>\n",
              "      <td>0</td>\n",
              "      <td>0</td>\n",
              "      <td>0</td>\n",
              "      <td>...</td>\n",
              "      <td>0</td>\n",
              "      <td>0</td>\n",
              "      <td>0</td>\n",
              "      <td>0</td>\n",
              "      <td>0</td>\n",
              "      <td>0</td>\n",
              "      <td>0</td>\n",
              "      <td>0</td>\n",
              "      <td>0</td>\n",
              "      <td>0</td>\n",
              "      <td>0</td>\n",
              "      <td>0</td>\n",
              "      <td>0</td>\n",
              "      <td>0</td>\n",
              "      <td>0</td>\n",
              "      <td>0</td>\n",
              "      <td>0</td>\n",
              "      <td>0</td>\n",
              "      <td>0</td>\n",
              "      <td>0</td>\n",
              "      <td>0</td>\n",
              "      <td>0</td>\n",
              "      <td>0</td>\n",
              "      <td>0</td>\n",
              "      <td>0</td>\n",
              "      <td>0</td>\n",
              "      <td>0</td>\n",
              "      <td>0</td>\n",
              "      <td>0</td>\n",
              "      <td>0</td>\n",
              "      <td>0</td>\n",
              "      <td>0</td>\n",
              "      <td>0</td>\n",
              "      <td>0</td>\n",
              "      <td>0</td>\n",
              "      <td>0</td>\n",
              "      <td>0</td>\n",
              "      <td></td>\n",
              "      <td>0.0</td>\n",
              "      <td>False</td>\n",
              "    </tr>\n",
              "    <tr>\n",
              "      <th>4</th>\n",
              "      <td>id_001626bd3</td>\n",
              "      <td>0</td>\n",
              "      <td>0</td>\n",
              "      <td>0</td>\n",
              "      <td>0</td>\n",
              "      <td>0</td>\n",
              "      <td>0</td>\n",
              "      <td>0</td>\n",
              "      <td>0</td>\n",
              "      <td>0</td>\n",
              "      <td>0</td>\n",
              "      <td>0</td>\n",
              "      <td>0</td>\n",
              "      <td>0</td>\n",
              "      <td>0</td>\n",
              "      <td>0</td>\n",
              "      <td>0</td>\n",
              "      <td>0</td>\n",
              "      <td>0</td>\n",
              "      <td>0</td>\n",
              "      <td>0</td>\n",
              "      <td>0</td>\n",
              "      <td>0</td>\n",
              "      <td>0</td>\n",
              "      <td>0</td>\n",
              "      <td>0</td>\n",
              "      <td>0</td>\n",
              "      <td>0</td>\n",
              "      <td>0</td>\n",
              "      <td>0</td>\n",
              "      <td>0</td>\n",
              "      <td>0</td>\n",
              "      <td>0</td>\n",
              "      <td>0</td>\n",
              "      <td>0</td>\n",
              "      <td>0</td>\n",
              "      <td>0</td>\n",
              "      <td>0</td>\n",
              "      <td>0</td>\n",
              "      <td>0</td>\n",
              "      <td>...</td>\n",
              "      <td>0</td>\n",
              "      <td>0</td>\n",
              "      <td>0</td>\n",
              "      <td>0</td>\n",
              "      <td>0</td>\n",
              "      <td>0</td>\n",
              "      <td>0</td>\n",
              "      <td>0</td>\n",
              "      <td>0</td>\n",
              "      <td>0</td>\n",
              "      <td>0</td>\n",
              "      <td>0</td>\n",
              "      <td>0</td>\n",
              "      <td>0</td>\n",
              "      <td>0</td>\n",
              "      <td>0</td>\n",
              "      <td>0</td>\n",
              "      <td>0</td>\n",
              "      <td>0</td>\n",
              "      <td>0</td>\n",
              "      <td>0</td>\n",
              "      <td>0</td>\n",
              "      <td>0</td>\n",
              "      <td>0</td>\n",
              "      <td>0</td>\n",
              "      <td>0</td>\n",
              "      <td>0</td>\n",
              "      <td>0</td>\n",
              "      <td>0</td>\n",
              "      <td>0</td>\n",
              "      <td>0</td>\n",
              "      <td>0</td>\n",
              "      <td>0</td>\n",
              "      <td>0</td>\n",
              "      <td>0</td>\n",
              "      <td>0</td>\n",
              "      <td>0</td>\n",
              "      <td>calcium_channel_blocker</td>\n",
              "      <td>3.0</td>\n",
              "      <td>True</td>\n",
              "    </tr>\n",
              "  </tbody>\n",
              "</table>\n",
              "<p>5 rows × 210 columns</p>\n",
              "</div>"
            ],
            "text/plain": [
              "             id  5-alpha_reductase_inhibitor  ...  n_moa  ativo_moa\n",
              "0  id_000644bb2                            0  ...    3.0       True\n",
              "1  id_000779bfc                            0  ...    0.0      False\n",
              "2  id_000a6266a                            0  ...    7.0       True\n",
              "3  id_0015fd391                            0  ...    0.0      False\n",
              "4  id_001626bd3                            0  ...    3.0       True\n",
              "\n",
              "[5 rows x 210 columns]"
            ]
          },
          "metadata": {
            "tags": []
          },
          "execution_count": 115
        }
      ]
    },
    {
      "cell_type": "markdown",
      "metadata": {
        "id": "NBI5bFRhd-b0"
      },
      "source": [
        "#### Qual a relação entre experimento com MoA ativados e não ativados?"
      ]
    },
    {
      "cell_type": "code",
      "metadata": {
        "colab": {
          "base_uri": "https://localhost:8080/"
        },
        "id": "34_CS821ePk3",
        "outputId": "2936b1ac-2334-4692-9292-92685068b6c9"
      },
      "source": [
        "round(dados_resultados['ativo_moa'].value_counts(normalize=True),2)"
      ],
      "execution_count": 116,
      "outputs": [
        {
          "output_type": "execute_result",
          "data": {
            "text/plain": [
              "True     0.61\n",
              "False    0.39\n",
              "Name: ativo_moa, dtype: float64"
            ]
          },
          "metadata": {
            "tags": []
          },
          "execution_count": 116
        }
      ]
    },
    {
      "cell_type": "markdown",
      "metadata": {
        "id": "XvIRoHDHeQLq"
      },
      "source": [
        "#### Qual o MoA mais ativados?"
      ]
    },
    {
      "cell_type": "code",
      "metadata": {
        "colab": {
          "base_uri": "https://localhost:8080/",
          "height": 283
        },
        "id": "3-Jub74cvk65",
        "outputId": "21359568-e986-449d-fd58-0b6cb203f049"
      },
      "source": [
        "qnt_moa = dados_resultados.drop(['id', 'n_moa', 'ativo_moa', 'moa_ativados'],\n",
        "                                axis=1\n",
        "                                ).sum(axis=0).sort_values(ascending=False)[:10]\n",
        "\n",
        "sns.barplot(y=qnt_moa.index, x=qnt_moa.values)"
      ],
      "execution_count": 117,
      "outputs": [
        {
          "output_type": "execute_result",
          "data": {
            "text/plain": [
              "<matplotlib.axes._subplots.AxesSubplot at 0x7ff36708ced0>"
            ]
          },
          "metadata": {
            "tags": []
          },
          "execution_count": 117
        },
        {
          "output_type": "display_data",
          "data": {
            "image/png": "[encoded data removed]",
            "text/plain": [
              "<Figure size 432x288 with 1 Axes>"
            ]
          },
          "metadata": {
            "tags": []
          }
        }
      ]
    },
    {
      "cell_type": "markdown",
      "metadata": {
        "id": "eG6X-MkWfX1n"
      },
      "source": [
        "#### Uma droga pode ativar diversos tipos de MoA?"
      ]
    },
    {
      "cell_type": "markdown",
      "metadata": {
        "id": "kBb_m-bZf9wS"
      },
      "source": [
        ""
      ]
    },
    {
      "cell_type": "code",
      "metadata": {
        "colab": {
          "base_uri": "https://localhost:8080/"
        },
        "id": "2-5s9fRChCpJ",
        "outputId": "2fbde29c-655c-4864-9911-d3995e096cf6"
      },
      "source": [
        "lista_drogas = list(dados['droga'].unique())\n",
        "\n",
        "flag = False\n",
        "\n",
        "for droga in lista_drogas:\n",
        "\n",
        "    lista_id = list(dados[dados['droga'] == droga]['id'].values)\n",
        "\n",
        "    moa_ativos = dados_resultados[dados_resultados['id'].isin(lista_id)]['moa_ativados'].unique()\n",
        "    \n",
        "    if len(moa_ativos) > 1:\n",
        "        print(f'A droga {droga} ativa diferentes combinações de Moa')\n",
        "        flag = True\n",
        "\n",
        "if not flag:\n",
        "    print('Drogas ativam as mesma combinações de MoA')"
      ],
      "execution_count": 118,
      "outputs": [
        {
          "output_type": "stream",
          "text": [
            "Drogas ativam as mesma combinações de MoA\n"
          ],
          "name": "stdout"
        }
      ]
    },
    {
      "cell_type": "markdown",
      "metadata": {
        "id": "Zsjh7gO0gzcb"
      },
      "source": [
        "#### Qual é a relação entre os tipos de MoA presente no dataset?"
      ]
    },
    {
      "cell_type": "markdown",
      "metadata": {
        "id": "23oo5suzov9u"
      },
      "source": [
        "Ao examinarmos o dataset `dados_resultados.csv` podemos ver que a maioria das colunas terminam com as seguintes palavras\n",
        "\n",
        "1. `_inhibidor`\n",
        "2. `_antagonist`\n",
        "3. `_agonist`\n",
        "\n",
        "Há MoA com outras terminações. E também há moa que não tem nem estas terminações.\n",
        "\n",
        "O primeiro passo é entender o que significa esses termos. Isso é uma área chamada de *farmacodinâmica* (estudo dos efeitos de um composto/droga no corpo)\n",
        "\n",
        "O estudo desta área baseia-se no conceito da ligação fármaco-receptor.\n",
        "\n",
        "\n",
        "Um composto pode se ligar a uma célula e pode ocorre uma resposta como consequência desta ligação. Tudo depende da chamada curva de *dose x resposta*\n",
        "\n",
        "Muitos receptores de compostos podem ser categorizados dentro de dois estados de conformação, que estão em equilíbrio reversível entre si. Temos com grande divisão:\n",
        "\n",
        "- **Agonista** - Um composto que, através de sua ligação a seu receptor, favorece a conformação ativa deste receptor é denominado agonista\n",
        "\n",
        "- **Antagonista** - Um fármaco que impede a ativação do receptor pelo agonista é designado como antagonista.\n",
        "\n",
        "**Em resumo, agonista e antagonista são duas pessoas no aniversário Guanabara disputando a última caixa de geléia de mocotó R$0,16 mais barato.O mais forte, leva.** 😅\n",
        "\n",
        "Por exemplo:\n",
        "\n",
        "`retinoid_receptor_agonist`, `retinoid_receptor_antagonist` competem entre si para pelo receptor de retinoides, moléculas quimicamente relacionadas com a vitamina A"
      ]
    },
    {
      "cell_type": "code",
      "metadata": {
        "id": "sZl676tAkRdL"
      },
      "source": [
        "def remove_items(lista, item):\n",
        "      \n",
        "    lista_nova = [i for i in lista if i != item]\n",
        "  \n",
        "    return lista_nova\n",
        "\n",
        "def get_cat_moa(df, value):\n",
        "\n",
        "    moas = df['moa_ativados']\n",
        "    lista_moas = moas.split(' | ')\n",
        "    acao = [j.split('_')[-1] for j in lista_moas]\n",
        "\n",
        "    if value == 'others':\n",
        "\n",
        "        acao = remove_items(acao, 'inhibitor')\n",
        "        acao = remove_items(acao, 'agonist')\n",
        "        acao = remove_items(acao, 'antagonist')\n",
        "\n",
        "        if (len(acao) == 1) and ('' in acao):\n",
        "            return 0\n",
        "\n",
        "        if len(acao) > 0:\n",
        "            return 1\n",
        "\n",
        "\n",
        "    if value in acao:\n",
        "        return 1\n",
        "    return 0"
      ],
      "execution_count": 119,
      "outputs": []
    },
    {
      "cell_type": "code",
      "metadata": {
        "id": "XMgAjtKDs_U5"
      },
      "source": [
        "dados_resultados['inibidor'] = dados_resultados.apply(get_cat_moa, value='inhibitor', axis = 1)\n",
        "dados_resultados['agonista'] = dados_resultados.apply(get_cat_moa, value='agonist', axis = 1)\n",
        "dados_resultados['antagonista'] = dados_resultados.apply(get_cat_moa, value='antagonist', axis = 1)\n",
        "dados_resultados['outros'] = dados_resultados.apply(get_cat_moa, value='others', axis = 1)"
      ],
      "execution_count": 120,
      "outputs": []
    },
    {
      "cell_type": "code",
      "metadata": {
        "colab": {
          "base_uri": "https://localhost:8080/",
          "height": 283
        },
        "id": "wjXqsiIqu3BJ",
        "outputId": "70c6d6c5-9af2-4ec9-d48c-a6fea3e7e921"
      },
      "source": [
        "cat_terminacoes = dados_resultados[['inibidor', 'agonista', 'antagonista', 'outros']].sum().sort_values(ascending=False)\n",
        "\n",
        "sns.barplot(x=cat_terminacoes.values, y=cat_terminacoes.index, orient='h', )"
      ],
      "execution_count": 121,
      "outputs": [
        {
          "output_type": "execute_result",
          "data": {
            "text/plain": [
              "<matplotlib.axes._subplots.AxesSubplot at 0x7ff3671b4650>"
            ]
          },
          "metadata": {
            "tags": []
          },
          "execution_count": 121
        },
        {
          "output_type": "display_data",
          "data": {
            "image/png": "[encoded data removed]",
            "text/plain": [
              "<Figure size 432x288 with 1 Axes>"
            ]
          },
          "metadata": {
            "tags": []
          }
        }
      ]
    },
    {
      "cell_type": "markdown",
      "metadata": {
        "id": "xnPahfnVxDEf"
      },
      "source": [
        "### Distribuição da Expressão Gênica"
      ]
    },
    {
      "cell_type": "code",
      "metadata": {
        "id": "fXnur1am2deY"
      },
      "source": [
        "g_x = [f'g-{i}' for i in range(772)]\n",
        "\n",
        "g_random = dados[sample(g_x, 4)]"
      ],
      "execution_count": 122,
      "outputs": []
    },
    {
      "cell_type": "code",
      "metadata": {
        "colab": {
          "base_uri": "https://localhost:8080/",
          "height": 557
        },
        "id": "tX27Ib-nx6BM",
        "outputId": "b3927db2-fe0c-4acc-db00-59d7e82ca884"
      },
      "source": [
        "fig, ax = plt.subplots(2,2, figsize=(16,9))\n",
        "\n",
        "ax = ax.ravel()\n",
        "\n",
        "for i, df in enumerate(g_random):\n",
        "    sns.histplot(data=dados[df], multiple='stack', kde=True, ax=ax[i])"
      ],
      "execution_count": 123,
      "outputs": [
        {
          "output_type": "display_data",
          "data": {
            "image/png": "[encoded data removed]",
            "text/plain": [
              "<Figure size 1152x648 with 4 Axes>"
            ]
          },
          "metadata": {
            "tags": []
          }
        }
      ]
    },
    {
      "cell_type": "markdown",
      "metadata": {
        "id": "VnWg6IDh35UM"
      },
      "source": [
        "### Distribuição da Viabilidade da Célula"
      ]
    },
    {
      "cell_type": "code",
      "metadata": {
        "id": "CV_luEBW3-dy"
      },
      "source": [
        "\n",
        "c_x = [f'c-{i}' for i in range(100)]\n",
        "\n",
        "c_random = dados[sample(c_x, 4)]"
      ],
      "execution_count": 124,
      "outputs": []
    },
    {
      "cell_type": "code",
      "metadata": {
        "colab": {
          "base_uri": "https://localhost:8080/",
          "height": 557
        },
        "id": "fKaU9vZn4AaB",
        "outputId": "a6c3fd3a-87a8-4517-e6c4-73855a227248"
      },
      "source": [
        "fig, ax = plt.subplots(2,2, figsize=(16,9))\n",
        "\n",
        "ax = ax.ravel()\n",
        "\n",
        "for i, df in enumerate(c_random):\n",
        "    sns.histplot(data=dados[df], multiple='stack', kde=True, ax=ax[i])"
      ],
      "execution_count": 125,
      "outputs": [
        {
          "output_type": "display_data",
          "data": {
            "image/png": "[encoded data removed]",
            "text/plain": [
              "<Figure size 1152x648 with 4 Axes>"
            ]
          },
          "metadata": {
            "tags": []
          }
        }
      ]
    },
    {
      "cell_type": "markdown",
      "metadata": {
        "id": "UaoghObv4ABE"
      },
      "source": [
        "Com uma análise do gráfico, podemos ver que as colunas C-X e G-X tem uma distribuição normal. Tudo nos leva a crer que a essas variáveis passaram por uma transformação que alterou sua distribuição.\n",
        "\n",
        "Vamos ver a correlação entre elas"
      ]
    },
    {
      "cell_type": "markdown",
      "metadata": {
        "id": "IgwPoleD5DZm"
      },
      "source": [
        "### Correlação entre as variáveis númericas"
      ]
    },
    {
      "cell_type": "markdown",
      "metadata": {
        "id": "05Fq8NLS5Rkx"
      },
      "source": [
        "#### G-x's"
      ]
    },
    {
      "cell_type": "code",
      "metadata": {
        "id": "6E37JAFF541Y"
      },
      "source": [
        "corr = dados.loc[:,'g-0':'g-50'].corr()"
      ],
      "execution_count": 126,
      "outputs": []
    },
    {
      "cell_type": "code",
      "metadata": {
        "colab": {
          "base_uri": "https://localhost:8080/",
          "height": 957
        },
        "id": "uj6vY6Z35kfg",
        "outputId": "a4dafd2d-69bb-487a-c05c-e91b76f0aeb9"
      },
      "source": [
        "%matplotlib inline\n",
        "# Generate a mask for the upper triangle\n",
        "mask = np.triu(np.ones_like(corr, dtype=bool))\n",
        "\n",
        "# Set up the matplotlib figure\n",
        "f, ax = plt.subplots(figsize=(20, 20))\n",
        "\n",
        "# Generate a custom diverging colormap\n",
        "cmap = sns.diverging_palette(250, 100, as_cmap=True)\n",
        "\n",
        "# Draw the heatmap with the mask and correct aspect ratio\n",
        "sns.heatmap(corr, mask=mask, cmap=cmap, center=0,\n",
        "            square=True, linewidths=.5, cbar_kws={\"shrink\": .5})\n",
        "\n",
        "plt.show()"
      ],
      "execution_count": 127,
      "outputs": [
        {
          "output_type": "display_data",
          "data": {
            "image/png": "[encoded data removed]",
            "text/plain": [
              "<Figure size 1440x1440 with 2 Axes>"
            ]
          },
          "metadata": {
            "tags": [],
            "needs_background": "light"
          }
        }
      ]
    },
    {
      "cell_type": "markdown",
      "metadata": {
        "id": "eFb_8h-h75z9"
      },
      "source": [
        "Podemos que a maioria das combinações entre os g's fica com cor de burro quando foge (correlação próxima de 0). \n",
        "\n",
        "O genes com a maior correlação é o g-50 com g-37"
      ]
    },
    {
      "cell_type": "markdown",
      "metadata": {
        "id": "4BEkhgof5XaN"
      },
      "source": [
        "#### C-x's"
      ]
    },
    {
      "cell_type": "code",
      "metadata": {
        "id": "fYxzFqsc5Q7d"
      },
      "source": [
        "corr = dados.loc[:,'c-0':'c-50'].corr()"
      ],
      "execution_count": 128,
      "outputs": []
    },
    {
      "cell_type": "code",
      "metadata": {
        "colab": {
          "base_uri": "https://localhost:8080/",
          "height": 957
        },
        "id": "bVFA-_c55CO7",
        "outputId": "e21c6e19-315b-44ba-eecc-52d4f582b176"
      },
      "source": [
        "%matplotlib inline\n",
        "# Generate a mask for the upper triangle\n",
        "mask = np.triu(np.ones_like(corr, dtype=bool))\n",
        "\n",
        "# Set up the matplotlib figure\n",
        "f, ax = plt.subplots(figsize=(20, 20))\n",
        "\n",
        "# Generate a custom diverging colormap\n",
        "cmap = sns.diverging_palette(250, 100, as_cmap=True)\n",
        "\n",
        "# Draw the heatmap with the mask and correct aspect ratio\n",
        "sns.heatmap(corr, mask=mask, cmap=cmap, center=0,\n",
        "            square=True, linewidths=.5, cbar_kws={\"shrink\": .5})\n",
        "\n",
        "plt.show()"
      ],
      "execution_count": 129,
      "outputs": [
        {
          "output_type": "display_data",
          "data": {
            "image/png": "[encoded data removed]",
            "text/plain": [
              "<Figure size 1440x1440 with 2 Axes>"
            ]
          },
          "metadata": {
            "tags": [],
            "needs_background": "light"
          }
        }
      ]
    },
    {
      "cell_type": "markdown",
      "metadata": {
        "id": "IVhBwDVI9N0H"
      },
      "source": [
        "Entre as variáveis C's vemos que há um alta correlação entre elas.\n",
        "\n",
        "*Pra eu que já não enxergo cor muito bem, então*!"
      ]
    },
    {
      "cell_type": "markdown",
      "metadata": {
        "id": "GFv9EDQ2_d9P"
      },
      "source": [
        "## Analisando um MoA"
      ]
    },
    {
      "cell_type": "markdown",
      "metadata": {
        "id": "Th6dJMFjA4UZ"
      },
      "source": [
        "Resolvi analisar o ativamento do MoA `serotonin_receptor_antagonist`.\n",
        "\n",
        "Você pode se perguntar: \"Porque esse MoA?\"\n",
        "\n",
        "Sendo sincero, após uma pesquisa, vi que esse é Mecanismo de Ação do Vonau Flash, um remédio jaboticaba, feito no Brasil, pela USP. A bula que diz sobre o mecanismo de ação pode ser acessada [aqui](https://consultaremedios.com.br/vonau-flash/bula)\n",
        "\n",
        "Pela pouca pesquisa que fiz, é um remédio que leva vantagem sobre os concorrentes é que no é preciso engolir, ele dissolve na boa. Excelente opção para crianças, ou a pessoa que vos escreve, que acham ruim engolir o remédio\n",
        "\n",
        "Outra vantagem é que ele age mais rápido que todos os outro concorrentes.\n",
        "\n",
        "\n",
        "Em 2018, a patente respondia por **58% de toda a receita da USP com royalties de invenções.**"
      ]
    },
    {
      "cell_type": "markdown",
      "metadata": {
        "id": "dP9Rdjx_Gawk"
      },
      "source": [
        "### serotonin_receptor_antagonist"
      ]
    },
    {
      "cell_type": "markdown",
      "metadata": {
        "id": "MqPO4jPUGgGE"
      },
      "source": [
        "Primeiro ver a quantidade de ativação deste MoA"
      ]
    },
    {
      "cell_type": "code",
      "metadata": {
        "colab": {
          "base_uri": "https://localhost:8080/",
          "height": 411
        },
        "id": "OgtMrCBBGlYF",
        "outputId": "a436c37c-ab0f-498b-dea0-bc77929b0940"
      },
      "source": [
        "dados_combinados = pd.merge(dados, dados_resultados[['id', 'serotonin_receptor_antagonist']], on='id')\n",
        "dados_combinados"
      ],
      "execution_count": 130,
      "outputs": [
        {
          "output_type": "execute_result",
          "data": {
            "text/html": [
              "<div>\n",
              "<style scoped>\n",
              "    .dataframe tbody tr th:only-of-type {\n",
              "        vertical-align: middle;\n",
              "    }\n",
              "\n",
              "    .dataframe tbody tr th {\n",
              "        vertical-align: top;\n",
              "    }\n",
              "\n",
              "    .dataframe thead th {\n",
              "        text-align: right;\n",
              "    }\n",
              "</style>\n",
              "<table border=\"1\" class=\"dataframe\">\n",
              "  <thead>\n",
              "    <tr style=\"text-align: right;\">\n",
              "      <th></th>\n",
              "      <th>id</th>\n",
              "      <th>tratamento</th>\n",
              "      <th>tempo</th>\n",
              "      <th>dose</th>\n",
              "      <th>droga</th>\n",
              "      <th>g-0</th>\n",
              "      <th>g-1</th>\n",
              "      <th>g-2</th>\n",
              "      <th>g-3</th>\n",
              "      <th>g-4</th>\n",
              "      <th>g-5</th>\n",
              "      <th>g-6</th>\n",
              "      <th>g-7</th>\n",
              "      <th>g-8</th>\n",
              "      <th>g-9</th>\n",
              "      <th>g-10</th>\n",
              "      <th>g-11</th>\n",
              "      <th>g-12</th>\n",
              "      <th>g-13</th>\n",
              "      <th>g-14</th>\n",
              "      <th>g-15</th>\n",
              "      <th>g-16</th>\n",
              "      <th>g-17</th>\n",
              "      <th>g-18</th>\n",
              "      <th>g-19</th>\n",
              "      <th>g-20</th>\n",
              "      <th>g-21</th>\n",
              "      <th>g-22</th>\n",
              "      <th>g-23</th>\n",
              "      <th>g-24</th>\n",
              "      <th>g-25</th>\n",
              "      <th>g-26</th>\n",
              "      <th>g-27</th>\n",
              "      <th>g-28</th>\n",
              "      <th>g-29</th>\n",
              "      <th>g-30</th>\n",
              "      <th>g-31</th>\n",
              "      <th>g-32</th>\n",
              "      <th>g-33</th>\n",
              "      <th>g-34</th>\n",
              "      <th>...</th>\n",
              "      <th>c-61</th>\n",
              "      <th>c-62</th>\n",
              "      <th>c-63</th>\n",
              "      <th>c-64</th>\n",
              "      <th>c-65</th>\n",
              "      <th>c-66</th>\n",
              "      <th>c-67</th>\n",
              "      <th>c-68</th>\n",
              "      <th>c-69</th>\n",
              "      <th>c-70</th>\n",
              "      <th>c-71</th>\n",
              "      <th>c-72</th>\n",
              "      <th>c-73</th>\n",
              "      <th>c-74</th>\n",
              "      <th>c-75</th>\n",
              "      <th>c-76</th>\n",
              "      <th>c-77</th>\n",
              "      <th>c-78</th>\n",
              "      <th>c-79</th>\n",
              "      <th>c-80</th>\n",
              "      <th>c-81</th>\n",
              "      <th>c-82</th>\n",
              "      <th>c-83</th>\n",
              "      <th>c-84</th>\n",
              "      <th>c-85</th>\n",
              "      <th>c-86</th>\n",
              "      <th>c-87</th>\n",
              "      <th>c-88</th>\n",
              "      <th>c-89</th>\n",
              "      <th>c-90</th>\n",
              "      <th>c-91</th>\n",
              "      <th>c-92</th>\n",
              "      <th>c-93</th>\n",
              "      <th>c-94</th>\n",
              "      <th>c-95</th>\n",
              "      <th>c-96</th>\n",
              "      <th>c-97</th>\n",
              "      <th>c-98</th>\n",
              "      <th>c-99</th>\n",
              "      <th>serotonin_receptor_antagonist</th>\n",
              "    </tr>\n",
              "  </thead>\n",
              "  <tbody>\n",
              "    <tr>\n",
              "      <th>0</th>\n",
              "      <td>id_000644bb2</td>\n",
              "      <td>com_droga</td>\n",
              "      <td>24</td>\n",
              "      <td>D1</td>\n",
              "      <td>b68db1d53</td>\n",
              "      <td>1.0620</td>\n",
              "      <td>0.5577</td>\n",
              "      <td>-0.2479</td>\n",
              "      <td>-0.6208</td>\n",
              "      <td>-0.1944</td>\n",
              "      <td>-1.0120</td>\n",
              "      <td>-1.0220</td>\n",
              "      <td>-0.0326</td>\n",
              "      <td>0.5548</td>\n",
              "      <td>-0.0921</td>\n",
              "      <td>1.1830</td>\n",
              "      <td>0.1530</td>\n",
              "      <td>0.5574</td>\n",
              "      <td>-0.4015</td>\n",
              "      <td>0.1789</td>\n",
              "      <td>-0.6528</td>\n",
              "      <td>-0.7969</td>\n",
              "      <td>0.6342</td>\n",
              "      <td>0.1778</td>\n",
              "      <td>-0.3694</td>\n",
              "      <td>-0.5688</td>\n",
              "      <td>-1.1360</td>\n",
              "      <td>-1.1880</td>\n",
              "      <td>0.6940</td>\n",
              "      <td>0.4393</td>\n",
              "      <td>0.2664</td>\n",
              "      <td>0.1907</td>\n",
              "      <td>0.1628</td>\n",
              "      <td>-0.2853</td>\n",
              "      <td>0.5819</td>\n",
              "      <td>0.2934</td>\n",
              "      <td>-0.5584</td>\n",
              "      <td>-0.0916</td>\n",
              "      <td>-0.3010</td>\n",
              "      <td>-0.1537</td>\n",
              "      <td>...</td>\n",
              "      <td>0.4965</td>\n",
              "      <td>0.3680</td>\n",
              "      <td>0.8427</td>\n",
              "      <td>0.1042</td>\n",
              "      <td>0.1403</td>\n",
              "      <td>0.1758</td>\n",
              "      <td>1.2570</td>\n",
              "      <td>-0.5979</td>\n",
              "      <td>1.2250</td>\n",
              "      <td>-0.0553</td>\n",
              "      <td>0.7351</td>\n",
              "      <td>0.5810</td>\n",
              "      <td>0.9590</td>\n",
              "      <td>0.2427</td>\n",
              "      <td>0.0495</td>\n",
              "      <td>0.4141</td>\n",
              "      <td>0.8432</td>\n",
              "      <td>0.6162</td>\n",
              "      <td>-0.7318</td>\n",
              "      <td>1.2120</td>\n",
              "      <td>0.6362</td>\n",
              "      <td>-0.4427</td>\n",
              "      <td>0.1288</td>\n",
              "      <td>1.4840</td>\n",
              "      <td>0.1799</td>\n",
              "      <td>0.5367</td>\n",
              "      <td>-0.1111</td>\n",
              "      <td>-1.0120</td>\n",
              "      <td>0.6685</td>\n",
              "      <td>0.2862</td>\n",
              "      <td>0.2584</td>\n",
              "      <td>0.8076</td>\n",
              "      <td>0.5523</td>\n",
              "      <td>-0.1912</td>\n",
              "      <td>0.6584</td>\n",
              "      <td>-0.3981</td>\n",
              "      <td>0.2139</td>\n",
              "      <td>0.3801</td>\n",
              "      <td>0.4176</td>\n",
              "      <td>0</td>\n",
              "    </tr>\n",
              "    <tr>\n",
              "      <th>1</th>\n",
              "      <td>id_000779bfc</td>\n",
              "      <td>com_droga</td>\n",
              "      <td>72</td>\n",
              "      <td>D1</td>\n",
              "      <td>df89a8e5a</td>\n",
              "      <td>0.0743</td>\n",
              "      <td>0.4087</td>\n",
              "      <td>0.2991</td>\n",
              "      <td>0.0604</td>\n",
              "      <td>1.0190</td>\n",
              "      <td>0.5207</td>\n",
              "      <td>0.2341</td>\n",
              "      <td>0.3372</td>\n",
              "      <td>-0.4047</td>\n",
              "      <td>0.8507</td>\n",
              "      <td>-1.1520</td>\n",
              "      <td>-0.4201</td>\n",
              "      <td>-0.0958</td>\n",
              "      <td>0.4590</td>\n",
              "      <td>0.0803</td>\n",
              "      <td>0.2250</td>\n",
              "      <td>0.5293</td>\n",
              "      <td>0.2839</td>\n",
              "      <td>-0.3494</td>\n",
              "      <td>0.2883</td>\n",
              "      <td>0.9449</td>\n",
              "      <td>-0.1646</td>\n",
              "      <td>-0.2657</td>\n",
              "      <td>-0.3372</td>\n",
              "      <td>0.3135</td>\n",
              "      <td>-0.4316</td>\n",
              "      <td>0.4773</td>\n",
              "      <td>0.2075</td>\n",
              "      <td>-0.4216</td>\n",
              "      <td>-0.1161</td>\n",
              "      <td>-0.0499</td>\n",
              "      <td>-0.2627</td>\n",
              "      <td>0.9959</td>\n",
              "      <td>-0.2483</td>\n",
              "      <td>0.2655</td>\n",
              "      <td>...</td>\n",
              "      <td>0.0319</td>\n",
              "      <td>0.3905</td>\n",
              "      <td>0.7099</td>\n",
              "      <td>0.2912</td>\n",
              "      <td>0.4151</td>\n",
              "      <td>-0.2840</td>\n",
              "      <td>-0.3104</td>\n",
              "      <td>-0.6373</td>\n",
              "      <td>0.2887</td>\n",
              "      <td>-0.0765</td>\n",
              "      <td>0.2539</td>\n",
              "      <td>0.4443</td>\n",
              "      <td>0.5932</td>\n",
              "      <td>0.2031</td>\n",
              "      <td>0.7639</td>\n",
              "      <td>0.5499</td>\n",
              "      <td>-0.3322</td>\n",
              "      <td>-0.0977</td>\n",
              "      <td>0.4329</td>\n",
              "      <td>-0.2782</td>\n",
              "      <td>0.7827</td>\n",
              "      <td>0.5934</td>\n",
              "      <td>0.3402</td>\n",
              "      <td>0.1499</td>\n",
              "      <td>0.4420</td>\n",
              "      <td>0.9366</td>\n",
              "      <td>0.8193</td>\n",
              "      <td>-0.4236</td>\n",
              "      <td>0.3192</td>\n",
              "      <td>-0.4265</td>\n",
              "      <td>0.7543</td>\n",
              "      <td>0.4708</td>\n",
              "      <td>0.0230</td>\n",
              "      <td>0.2957</td>\n",
              "      <td>0.4899</td>\n",
              "      <td>0.1522</td>\n",
              "      <td>0.1241</td>\n",
              "      <td>0.6077</td>\n",
              "      <td>0.7371</td>\n",
              "      <td>0</td>\n",
              "    </tr>\n",
              "    <tr>\n",
              "      <th>2</th>\n",
              "      <td>id_000a6266a</td>\n",
              "      <td>com_droga</td>\n",
              "      <td>48</td>\n",
              "      <td>D1</td>\n",
              "      <td>18bb41b2c</td>\n",
              "      <td>0.6280</td>\n",
              "      <td>0.5817</td>\n",
              "      <td>1.5540</td>\n",
              "      <td>-0.0764</td>\n",
              "      <td>-0.0323</td>\n",
              "      <td>1.2390</td>\n",
              "      <td>0.1715</td>\n",
              "      <td>0.2155</td>\n",
              "      <td>0.0065</td>\n",
              "      <td>1.2300</td>\n",
              "      <td>-0.4797</td>\n",
              "      <td>-0.5631</td>\n",
              "      <td>-0.0366</td>\n",
              "      <td>-1.8300</td>\n",
              "      <td>0.6057</td>\n",
              "      <td>-0.3278</td>\n",
              "      <td>0.6042</td>\n",
              "      <td>-0.3075</td>\n",
              "      <td>-0.1147</td>\n",
              "      <td>-0.0570</td>\n",
              "      <td>-0.0799</td>\n",
              "      <td>-0.8181</td>\n",
              "      <td>-1.5320</td>\n",
              "      <td>0.2307</td>\n",
              "      <td>0.4901</td>\n",
              "      <td>0.4780</td>\n",
              "      <td>-1.3970</td>\n",
              "      <td>4.6240</td>\n",
              "      <td>-0.0437</td>\n",
              "      <td>1.2870</td>\n",
              "      <td>-1.8530</td>\n",
              "      <td>0.6069</td>\n",
              "      <td>0.4290</td>\n",
              "      <td>0.1783</td>\n",
              "      <td>0.0018</td>\n",
              "      <td>...</td>\n",
              "      <td>-0.7576</td>\n",
              "      <td>-0.0444</td>\n",
              "      <td>0.1894</td>\n",
              "      <td>-0.0014</td>\n",
              "      <td>-2.3640</td>\n",
              "      <td>-0.4682</td>\n",
              "      <td>0.1210</td>\n",
              "      <td>-0.5177</td>\n",
              "      <td>-0.0604</td>\n",
              "      <td>0.1682</td>\n",
              "      <td>-0.4436</td>\n",
              "      <td>0.4963</td>\n",
              "      <td>0.1363</td>\n",
              "      <td>0.3335</td>\n",
              "      <td>0.9760</td>\n",
              "      <td>-0.0427</td>\n",
              "      <td>-0.1235</td>\n",
              "      <td>0.0959</td>\n",
              "      <td>0.0690</td>\n",
              "      <td>-0.9416</td>\n",
              "      <td>-0.7548</td>\n",
              "      <td>-0.1109</td>\n",
              "      <td>-0.6272</td>\n",
              "      <td>0.3019</td>\n",
              "      <td>0.1172</td>\n",
              "      <td>0.1093</td>\n",
              "      <td>-0.3113</td>\n",
              "      <td>0.3019</td>\n",
              "      <td>-0.0873</td>\n",
              "      <td>-0.7250</td>\n",
              "      <td>-0.6297</td>\n",
              "      <td>0.6103</td>\n",
              "      <td>0.0223</td>\n",
              "      <td>-1.3240</td>\n",
              "      <td>-0.3174</td>\n",
              "      <td>-0.6417</td>\n",
              "      <td>-0.2187</td>\n",
              "      <td>-1.4080</td>\n",
              "      <td>0.6931</td>\n",
              "      <td>0</td>\n",
              "    </tr>\n",
              "    <tr>\n",
              "      <th>3</th>\n",
              "      <td>id_0015fd391</td>\n",
              "      <td>com_droga</td>\n",
              "      <td>48</td>\n",
              "      <td>D1</td>\n",
              "      <td>8c7f86626</td>\n",
              "      <td>-0.5138</td>\n",
              "      <td>-0.2491</td>\n",
              "      <td>-0.2656</td>\n",
              "      <td>0.5288</td>\n",
              "      <td>4.0620</td>\n",
              "      <td>-0.8095</td>\n",
              "      <td>-1.9590</td>\n",
              "      <td>0.1792</td>\n",
              "      <td>-0.1321</td>\n",
              "      <td>-1.0600</td>\n",
              "      <td>-0.8269</td>\n",
              "      <td>-0.3584</td>\n",
              "      <td>-0.8511</td>\n",
              "      <td>-0.5844</td>\n",
              "      <td>-2.5690</td>\n",
              "      <td>0.8183</td>\n",
              "      <td>-0.0532</td>\n",
              "      <td>-0.8554</td>\n",
              "      <td>0.1160</td>\n",
              "      <td>-2.3520</td>\n",
              "      <td>2.1200</td>\n",
              "      <td>-1.1580</td>\n",
              "      <td>-0.7191</td>\n",
              "      <td>-0.8004</td>\n",
              "      <td>-1.4670</td>\n",
              "      <td>-0.0107</td>\n",
              "      <td>-0.8995</td>\n",
              "      <td>0.2406</td>\n",
              "      <td>-0.2479</td>\n",
              "      <td>-1.0890</td>\n",
              "      <td>-0.7575</td>\n",
              "      <td>0.0881</td>\n",
              "      <td>-2.7370</td>\n",
              "      <td>0.8745</td>\n",
              "      <td>0.5787</td>\n",
              "      <td>...</td>\n",
              "      <td>-0.3752</td>\n",
              "      <td>-2.3820</td>\n",
              "      <td>-3.7350</td>\n",
              "      <td>-2.9740</td>\n",
              "      <td>-1.4930</td>\n",
              "      <td>-1.6600</td>\n",
              "      <td>-3.1660</td>\n",
              "      <td>0.2816</td>\n",
              "      <td>-0.2990</td>\n",
              "      <td>-1.1870</td>\n",
              "      <td>-0.5044</td>\n",
              "      <td>-1.7750</td>\n",
              "      <td>-1.6120</td>\n",
              "      <td>-0.9215</td>\n",
              "      <td>-1.0810</td>\n",
              "      <td>-3.0520</td>\n",
              "      <td>-3.4470</td>\n",
              "      <td>-2.7740</td>\n",
              "      <td>-1.8460</td>\n",
              "      <td>-0.5568</td>\n",
              "      <td>-3.3960</td>\n",
              "      <td>-2.9510</td>\n",
              "      <td>-1.1550</td>\n",
              "      <td>-3.2620</td>\n",
              "      <td>-1.5390</td>\n",
              "      <td>-2.4600</td>\n",
              "      <td>-0.9417</td>\n",
              "      <td>-1.5550</td>\n",
              "      <td>0.2431</td>\n",
              "      <td>-2.0990</td>\n",
              "      <td>-0.6441</td>\n",
              "      <td>-5.6300</td>\n",
              "      <td>-1.3780</td>\n",
              "      <td>-0.8632</td>\n",
              "      <td>-1.2880</td>\n",
              "      <td>-1.6210</td>\n",
              "      <td>-0.8784</td>\n",
              "      <td>-0.3876</td>\n",
              "      <td>-0.8154</td>\n",
              "      <td>0</td>\n",
              "    </tr>\n",
              "    <tr>\n",
              "      <th>4</th>\n",
              "      <td>id_001626bd3</td>\n",
              "      <td>com_droga</td>\n",
              "      <td>72</td>\n",
              "      <td>D2</td>\n",
              "      <td>7cbed3131</td>\n",
              "      <td>-0.3254</td>\n",
              "      <td>-0.4009</td>\n",
              "      <td>0.9700</td>\n",
              "      <td>0.6919</td>\n",
              "      <td>1.4180</td>\n",
              "      <td>-0.8244</td>\n",
              "      <td>-0.2800</td>\n",
              "      <td>-0.1498</td>\n",
              "      <td>-0.8789</td>\n",
              "      <td>0.8630</td>\n",
              "      <td>-0.2219</td>\n",
              "      <td>-0.5121</td>\n",
              "      <td>-0.9577</td>\n",
              "      <td>1.1750</td>\n",
              "      <td>0.2042</td>\n",
              "      <td>0.1970</td>\n",
              "      <td>0.1244</td>\n",
              "      <td>-1.7090</td>\n",
              "      <td>-0.3543</td>\n",
              "      <td>-0.5160</td>\n",
              "      <td>-0.3330</td>\n",
              "      <td>-0.2685</td>\n",
              "      <td>0.7649</td>\n",
              "      <td>0.2057</td>\n",
              "      <td>1.3720</td>\n",
              "      <td>0.6835</td>\n",
              "      <td>0.8056</td>\n",
              "      <td>-0.3754</td>\n",
              "      <td>-1.2090</td>\n",
              "      <td>0.2965</td>\n",
              "      <td>-0.0712</td>\n",
              "      <td>0.6389</td>\n",
              "      <td>0.6674</td>\n",
              "      <td>-0.0783</td>\n",
              "      <td>1.1740</td>\n",
              "      <td>...</td>\n",
              "      <td>0.3215</td>\n",
              "      <td>0.1535</td>\n",
              "      <td>-0.4640</td>\n",
              "      <td>-0.5943</td>\n",
              "      <td>0.3973</td>\n",
              "      <td>0.1500</td>\n",
              "      <td>0.5178</td>\n",
              "      <td>0.5159</td>\n",
              "      <td>0.6091</td>\n",
              "      <td>0.1813</td>\n",
              "      <td>-0.4249</td>\n",
              "      <td>0.7832</td>\n",
              "      <td>0.6529</td>\n",
              "      <td>0.5648</td>\n",
              "      <td>0.4817</td>\n",
              "      <td>0.0587</td>\n",
              "      <td>0.5303</td>\n",
              "      <td>0.6376</td>\n",
              "      <td>-0.3966</td>\n",
              "      <td>-1.4950</td>\n",
              "      <td>-0.9625</td>\n",
              "      <td>-0.0541</td>\n",
              "      <td>0.6273</td>\n",
              "      <td>0.4563</td>\n",
              "      <td>0.0698</td>\n",
              "      <td>0.8134</td>\n",
              "      <td>0.1924</td>\n",
              "      <td>0.6054</td>\n",
              "      <td>-0.1824</td>\n",
              "      <td>0.0042</td>\n",
              "      <td>0.0048</td>\n",
              "      <td>0.6670</td>\n",
              "      <td>1.0690</td>\n",
              "      <td>0.5523</td>\n",
              "      <td>-0.3031</td>\n",
              "      <td>0.1094</td>\n",
              "      <td>0.2885</td>\n",
              "      <td>-0.3786</td>\n",
              "      <td>0.7125</td>\n",
              "      <td>0</td>\n",
              "    </tr>\n",
              "    <tr>\n",
              "      <th>...</th>\n",
              "      <td>...</td>\n",
              "      <td>...</td>\n",
              "      <td>...</td>\n",
              "      <td>...</td>\n",
              "      <td>...</td>\n",
              "      <td>...</td>\n",
              "      <td>...</td>\n",
              "      <td>...</td>\n",
              "      <td>...</td>\n",
              "      <td>...</td>\n",
              "      <td>...</td>\n",
              "      <td>...</td>\n",
              "      <td>...</td>\n",
              "      <td>...</td>\n",
              "      <td>...</td>\n",
              "      <td>...</td>\n",
              "      <td>...</td>\n",
              "      <td>...</td>\n",
              "      <td>...</td>\n",
              "      <td>...</td>\n",
              "      <td>...</td>\n",
              "      <td>...</td>\n",
              "      <td>...</td>\n",
              "      <td>...</td>\n",
              "      <td>...</td>\n",
              "      <td>...</td>\n",
              "      <td>...</td>\n",
              "      <td>...</td>\n",
              "      <td>...</td>\n",
              "      <td>...</td>\n",
              "      <td>...</td>\n",
              "      <td>...</td>\n",
              "      <td>...</td>\n",
              "      <td>...</td>\n",
              "      <td>...</td>\n",
              "      <td>...</td>\n",
              "      <td>...</td>\n",
              "      <td>...</td>\n",
              "      <td>...</td>\n",
              "      <td>...</td>\n",
              "      <td>...</td>\n",
              "      <td>...</td>\n",
              "      <td>...</td>\n",
              "      <td>...</td>\n",
              "      <td>...</td>\n",
              "      <td>...</td>\n",
              "      <td>...</td>\n",
              "      <td>...</td>\n",
              "      <td>...</td>\n",
              "      <td>...</td>\n",
              "      <td>...</td>\n",
              "      <td>...</td>\n",
              "      <td>...</td>\n",
              "      <td>...</td>\n",
              "      <td>...</td>\n",
              "      <td>...</td>\n",
              "      <td>...</td>\n",
              "      <td>...</td>\n",
              "      <td>...</td>\n",
              "      <td>...</td>\n",
              "      <td>...</td>\n",
              "      <td>...</td>\n",
              "      <td>...</td>\n",
              "      <td>...</td>\n",
              "      <td>...</td>\n",
              "      <td>...</td>\n",
              "      <td>...</td>\n",
              "      <td>...</td>\n",
              "      <td>...</td>\n",
              "      <td>...</td>\n",
              "      <td>...</td>\n",
              "      <td>...</td>\n",
              "      <td>...</td>\n",
              "      <td>...</td>\n",
              "      <td>...</td>\n",
              "      <td>...</td>\n",
              "      <td>...</td>\n",
              "      <td>...</td>\n",
              "      <td>...</td>\n",
              "      <td>...</td>\n",
              "      <td>...</td>\n",
              "    </tr>\n",
              "    <tr>\n",
              "      <th>23809</th>\n",
              "      <td>id_fffb1ceed</td>\n",
              "      <td>com_droga</td>\n",
              "      <td>24</td>\n",
              "      <td>D2</td>\n",
              "      <td>df1d0a5a1</td>\n",
              "      <td>0.1394</td>\n",
              "      <td>-0.0636</td>\n",
              "      <td>-0.1112</td>\n",
              "      <td>-0.5080</td>\n",
              "      <td>-0.4713</td>\n",
              "      <td>0.7201</td>\n",
              "      <td>0.5773</td>\n",
              "      <td>0.3055</td>\n",
              "      <td>-0.4726</td>\n",
              "      <td>0.1269</td>\n",
              "      <td>0.2531</td>\n",
              "      <td>0.1730</td>\n",
              "      <td>-0.4532</td>\n",
              "      <td>-1.0790</td>\n",
              "      <td>0.2474</td>\n",
              "      <td>-0.4550</td>\n",
              "      <td>0.3588</td>\n",
              "      <td>0.1600</td>\n",
              "      <td>-0.7362</td>\n",
              "      <td>-0.1103</td>\n",
              "      <td>0.8550</td>\n",
              "      <td>-0.4139</td>\n",
              "      <td>0.5541</td>\n",
              "      <td>0.2310</td>\n",
              "      <td>-0.5573</td>\n",
              "      <td>-0.4397</td>\n",
              "      <td>-0.9260</td>\n",
              "      <td>-0.2424</td>\n",
              "      <td>-0.6686</td>\n",
              "      <td>0.2326</td>\n",
              "      <td>0.6456</td>\n",
              "      <td>0.0136</td>\n",
              "      <td>-0.5141</td>\n",
              "      <td>-0.6320</td>\n",
              "      <td>0.7166</td>\n",
              "      <td>...</td>\n",
              "      <td>0.4024</td>\n",
              "      <td>-0.0895</td>\n",
              "      <td>0.4420</td>\n",
              "      <td>0.9641</td>\n",
              "      <td>-0.1846</td>\n",
              "      <td>-0.0014</td>\n",
              "      <td>0.3154</td>\n",
              "      <td>-0.2071</td>\n",
              "      <td>-0.6158</td>\n",
              "      <td>-0.2977</td>\n",
              "      <td>0.0992</td>\n",
              "      <td>0.6838</td>\n",
              "      <td>0.5259</td>\n",
              "      <td>0.7882</td>\n",
              "      <td>0.3119</td>\n",
              "      <td>-0.7697</td>\n",
              "      <td>0.2203</td>\n",
              "      <td>-1.0710</td>\n",
              "      <td>0.5979</td>\n",
              "      <td>0.0848</td>\n",
              "      <td>-0.2555</td>\n",
              "      <td>0.6293</td>\n",
              "      <td>1.1660</td>\n",
              "      <td>0.3329</td>\n",
              "      <td>0.2754</td>\n",
              "      <td>0.4108</td>\n",
              "      <td>-0.1252</td>\n",
              "      <td>-0.2340</td>\n",
              "      <td>0.2267</td>\n",
              "      <td>0.1969</td>\n",
              "      <td>0.0262</td>\n",
              "      <td>-0.8121</td>\n",
              "      <td>0.3434</td>\n",
              "      <td>0.5372</td>\n",
              "      <td>-0.3246</td>\n",
              "      <td>0.0631</td>\n",
              "      <td>0.9171</td>\n",
              "      <td>0.5258</td>\n",
              "      <td>0.4680</td>\n",
              "      <td>1</td>\n",
              "    </tr>\n",
              "    <tr>\n",
              "      <th>23810</th>\n",
              "      <td>id_fffb70c0c</td>\n",
              "      <td>com_droga</td>\n",
              "      <td>24</td>\n",
              "      <td>D2</td>\n",
              "      <td>ecf3b6b74</td>\n",
              "      <td>-1.3260</td>\n",
              "      <td>0.3478</td>\n",
              "      <td>-0.3743</td>\n",
              "      <td>0.9905</td>\n",
              "      <td>-0.7178</td>\n",
              "      <td>0.6621</td>\n",
              "      <td>-0.2252</td>\n",
              "      <td>-0.5565</td>\n",
              "      <td>0.5112</td>\n",
              "      <td>0.6727</td>\n",
              "      <td>-0.1851</td>\n",
              "      <td>2.8650</td>\n",
              "      <td>-0.2140</td>\n",
              "      <td>-0.6153</td>\n",
              "      <td>0.8362</td>\n",
              "      <td>0.5584</td>\n",
              "      <td>-0.2589</td>\n",
              "      <td>0.1292</td>\n",
              "      <td>0.0148</td>\n",
              "      <td>0.0949</td>\n",
              "      <td>-0.2182</td>\n",
              "      <td>-0.9235</td>\n",
              "      <td>0.0749</td>\n",
              "      <td>-1.5910</td>\n",
              "      <td>-0.8359</td>\n",
              "      <td>-0.9217</td>\n",
              "      <td>0.3013</td>\n",
              "      <td>0.1716</td>\n",
              "      <td>0.0880</td>\n",
              "      <td>0.1842</td>\n",
              "      <td>0.1835</td>\n",
              "      <td>0.5436</td>\n",
              "      <td>-0.0533</td>\n",
              "      <td>-0.0491</td>\n",
              "      <td>0.9543</td>\n",
              "      <td>...</td>\n",
              "      <td>1.2640</td>\n",
              "      <td>-0.8663</td>\n",
              "      <td>0.8129</td>\n",
              "      <td>-0.1514</td>\n",
              "      <td>-0.4652</td>\n",
              "      <td>-0.7390</td>\n",
              "      <td>-1.3270</td>\n",
              "      <td>0.9925</td>\n",
              "      <td>1.0570</td>\n",
              "      <td>-0.3355</td>\n",
              "      <td>-0.2555</td>\n",
              "      <td>0.8219</td>\n",
              "      <td>0.6995</td>\n",
              "      <td>-0.2942</td>\n",
              "      <td>0.2408</td>\n",
              "      <td>-0.7781</td>\n",
              "      <td>-0.0929</td>\n",
              "      <td>-0.0329</td>\n",
              "      <td>0.0781</td>\n",
              "      <td>-1.4440</td>\n",
              "      <td>-0.0921</td>\n",
              "      <td>0.3188</td>\n",
              "      <td>-1.1080</td>\n",
              "      <td>0.4895</td>\n",
              "      <td>-0.2144</td>\n",
              "      <td>1.0960</td>\n",
              "      <td>0.3335</td>\n",
              "      <td>0.4444</td>\n",
              "      <td>-1.1130</td>\n",
              "      <td>0.4286</td>\n",
              "      <td>0.4426</td>\n",
              "      <td>0.0423</td>\n",
              "      <td>-0.3195</td>\n",
              "      <td>-0.8086</td>\n",
              "      <td>-0.9798</td>\n",
              "      <td>-0.2084</td>\n",
              "      <td>-0.1224</td>\n",
              "      <td>-0.2715</td>\n",
              "      <td>0.3689</td>\n",
              "      <td>0</td>\n",
              "    </tr>\n",
              "    <tr>\n",
              "      <th>23811</th>\n",
              "      <td>id_fffc1c3f4</td>\n",
              "      <td>com_controle</td>\n",
              "      <td>48</td>\n",
              "      <td>D2</td>\n",
              "      <td>cacb2b860</td>\n",
              "      <td>0.3942</td>\n",
              "      <td>0.3756</td>\n",
              "      <td>0.3109</td>\n",
              "      <td>-0.7389</td>\n",
              "      <td>0.5505</td>\n",
              "      <td>-0.0159</td>\n",
              "      <td>-0.2541</td>\n",
              "      <td>0.1745</td>\n",
              "      <td>-0.0340</td>\n",
              "      <td>0.4865</td>\n",
              "      <td>-0.1854</td>\n",
              "      <td>0.0716</td>\n",
              "      <td>0.1729</td>\n",
              "      <td>-0.0434</td>\n",
              "      <td>0.1542</td>\n",
              "      <td>-0.2192</td>\n",
              "      <td>-0.0302</td>\n",
              "      <td>-0.4218</td>\n",
              "      <td>0.4057</td>\n",
              "      <td>-0.5372</td>\n",
              "      <td>0.1521</td>\n",
              "      <td>-0.2651</td>\n",
              "      <td>0.2310</td>\n",
              "      <td>-0.8101</td>\n",
              "      <td>0.4943</td>\n",
              "      <td>0.6905</td>\n",
              "      <td>-0.3720</td>\n",
              "      <td>-1.4110</td>\n",
              "      <td>0.4516</td>\n",
              "      <td>1.2300</td>\n",
              "      <td>-0.1949</td>\n",
              "      <td>-1.3280</td>\n",
              "      <td>-0.4276</td>\n",
              "      <td>-0.0040</td>\n",
              "      <td>-0.3086</td>\n",
              "      <td>...</td>\n",
              "      <td>0.7127</td>\n",
              "      <td>0.7294</td>\n",
              "      <td>0.4718</td>\n",
              "      <td>-0.2020</td>\n",
              "      <td>0.2783</td>\n",
              "      <td>0.4934</td>\n",
              "      <td>0.4144</td>\n",
              "      <td>0.5449</td>\n",
              "      <td>1.4690</td>\n",
              "      <td>-0.6142</td>\n",
              "      <td>0.6068</td>\n",
              "      <td>0.3434</td>\n",
              "      <td>0.9880</td>\n",
              "      <td>-0.0468</td>\n",
              "      <td>-0.1882</td>\n",
              "      <td>-0.0087</td>\n",
              "      <td>-0.0356</td>\n",
              "      <td>0.5718</td>\n",
              "      <td>0.4971</td>\n",
              "      <td>0.1057</td>\n",
              "      <td>0.2111</td>\n",
              "      <td>0.6992</td>\n",
              "      <td>0.0708</td>\n",
              "      <td>0.6169</td>\n",
              "      <td>0.2248</td>\n",
              "      <td>0.5994</td>\n",
              "      <td>0.2689</td>\n",
              "      <td>0.0305</td>\n",
              "      <td>1.2320</td>\n",
              "      <td>0.5409</td>\n",
              "      <td>0.3755</td>\n",
              "      <td>0.7343</td>\n",
              "      <td>0.2807</td>\n",
              "      <td>0.4116</td>\n",
              "      <td>0.6422</td>\n",
              "      <td>0.2256</td>\n",
              "      <td>0.7592</td>\n",
              "      <td>0.6656</td>\n",
              "      <td>0.3808</td>\n",
              "      <td>0</td>\n",
              "    </tr>\n",
              "    <tr>\n",
              "      <th>23812</th>\n",
              "      <td>id_fffcb9e7c</td>\n",
              "      <td>com_droga</td>\n",
              "      <td>24</td>\n",
              "      <td>D1</td>\n",
              "      <td>8b87a7a83</td>\n",
              "      <td>0.6660</td>\n",
              "      <td>0.2324</td>\n",
              "      <td>0.4392</td>\n",
              "      <td>0.2044</td>\n",
              "      <td>0.8531</td>\n",
              "      <td>-0.0343</td>\n",
              "      <td>0.0323</td>\n",
              "      <td>0.0463</td>\n",
              "      <td>0.4299</td>\n",
              "      <td>-0.7985</td>\n",
              "      <td>0.5742</td>\n",
              "      <td>0.1421</td>\n",
              "      <td>2.2700</td>\n",
              "      <td>0.2046</td>\n",
              "      <td>0.5363</td>\n",
              "      <td>-1.7330</td>\n",
              "      <td>0.1450</td>\n",
              "      <td>0.6097</td>\n",
              "      <td>0.2024</td>\n",
              "      <td>0.9865</td>\n",
              "      <td>-0.7805</td>\n",
              "      <td>0.9608</td>\n",
              "      <td>0.3440</td>\n",
              "      <td>2.7650</td>\n",
              "      <td>0.4925</td>\n",
              "      <td>0.6698</td>\n",
              "      <td>0.2374</td>\n",
              "      <td>-0.3372</td>\n",
              "      <td>0.8771</td>\n",
              "      <td>-2.6560</td>\n",
              "      <td>-0.2000</td>\n",
              "      <td>-0.2043</td>\n",
              "      <td>0.6797</td>\n",
              "      <td>-0.0248</td>\n",
              "      <td>-0.0927</td>\n",
              "      <td>...</td>\n",
              "      <td>-0.6136</td>\n",
              "      <td>0.5011</td>\n",
              "      <td>0.9261</td>\n",
              "      <td>0.4419</td>\n",
              "      <td>0.0295</td>\n",
              "      <td>0.4220</td>\n",
              "      <td>0.4677</td>\n",
              "      <td>-0.1184</td>\n",
              "      <td>0.4524</td>\n",
              "      <td>0.4135</td>\n",
              "      <td>0.1356</td>\n",
              "      <td>-0.5801</td>\n",
              "      <td>0.0411</td>\n",
              "      <td>1.0240</td>\n",
              "      <td>1.0340</td>\n",
              "      <td>-0.0270</td>\n",
              "      <td>-0.4194</td>\n",
              "      <td>0.7403</td>\n",
              "      <td>-0.6793</td>\n",
              "      <td>-0.1423</td>\n",
              "      <td>0.7307</td>\n",
              "      <td>0.7946</td>\n",
              "      <td>-0.0650</td>\n",
              "      <td>0.9038</td>\n",
              "      <td>0.2324</td>\n",
              "      <td>0.9676</td>\n",
              "      <td>1.0940</td>\n",
              "      <td>0.4290</td>\n",
              "      <td>0.5187</td>\n",
              "      <td>-0.1105</td>\n",
              "      <td>0.4258</td>\n",
              "      <td>-0.2012</td>\n",
              "      <td>0.1506</td>\n",
              "      <td>1.5230</td>\n",
              "      <td>0.7101</td>\n",
              "      <td>0.1732</td>\n",
              "      <td>0.7015</td>\n",
              "      <td>-0.6290</td>\n",
              "      <td>0.0740</td>\n",
              "      <td>0</td>\n",
              "    </tr>\n",
              "    <tr>\n",
              "      <th>23813</th>\n",
              "      <td>id_ffffdd77b</td>\n",
              "      <td>com_droga</td>\n",
              "      <td>72</td>\n",
              "      <td>D1</td>\n",
              "      <td>972f41291</td>\n",
              "      <td>-0.8598</td>\n",
              "      <td>1.0240</td>\n",
              "      <td>-0.1361</td>\n",
              "      <td>0.7952</td>\n",
              "      <td>-0.3611</td>\n",
              "      <td>-3.6750</td>\n",
              "      <td>-1.2420</td>\n",
              "      <td>0.9146</td>\n",
              "      <td>3.0790</td>\n",
              "      <td>1.2460</td>\n",
              "      <td>1.9460</td>\n",
              "      <td>1.4370</td>\n",
              "      <td>2.9780</td>\n",
              "      <td>2.2370</td>\n",
              "      <td>-0.6818</td>\n",
              "      <td>0.6870</td>\n",
              "      <td>-1.1060</td>\n",
              "      <td>0.0182</td>\n",
              "      <td>-0.9247</td>\n",
              "      <td>-0.0738</td>\n",
              "      <td>-0.1919</td>\n",
              "      <td>-0.7722</td>\n",
              "      <td>-1.4050</td>\n",
              "      <td>-1.0050</td>\n",
              "      <td>-1.1170</td>\n",
              "      <td>-0.5293</td>\n",
              "      <td>-1.1720</td>\n",
              "      <td>-0.2885</td>\n",
              "      <td>0.1599</td>\n",
              "      <td>-0.4250</td>\n",
              "      <td>0.3591</td>\n",
              "      <td>-0.1420</td>\n",
              "      <td>-0.9530</td>\n",
              "      <td>-0.2005</td>\n",
              "      <td>-1.8340</td>\n",
              "      <td>...</td>\n",
              "      <td>-1.8640</td>\n",
              "      <td>-2.5090</td>\n",
              "      <td>-4.7130</td>\n",
              "      <td>-1.7250</td>\n",
              "      <td>-3.8650</td>\n",
              "      <td>-3.0800</td>\n",
              "      <td>-4.1530</td>\n",
              "      <td>-1.2030</td>\n",
              "      <td>-1.1690</td>\n",
              "      <td>-4.1460</td>\n",
              "      <td>-1.2670</td>\n",
              "      <td>-1.1300</td>\n",
              "      <td>-2.4390</td>\n",
              "      <td>0.1591</td>\n",
              "      <td>-2.2490</td>\n",
              "      <td>-2.5860</td>\n",
              "      <td>-1.9520</td>\n",
              "      <td>-2.1810</td>\n",
              "      <td>-4.6690</td>\n",
              "      <td>-3.9450</td>\n",
              "      <td>-2.9560</td>\n",
              "      <td>-2.7930</td>\n",
              "      <td>-2.1560</td>\n",
              "      <td>-2.4100</td>\n",
              "      <td>-1.8190</td>\n",
              "      <td>-3.3480</td>\n",
              "      <td>-0.1414</td>\n",
              "      <td>-2.6430</td>\n",
              "      <td>-2.5810</td>\n",
              "      <td>-3.3890</td>\n",
              "      <td>-1.7450</td>\n",
              "      <td>-6.6300</td>\n",
              "      <td>-4.0950</td>\n",
              "      <td>-7.3860</td>\n",
              "      <td>-1.4160</td>\n",
              "      <td>-3.5770</td>\n",
              "      <td>-0.4775</td>\n",
              "      <td>-2.1500</td>\n",
              "      <td>-4.2520</td>\n",
              "      <td>0</td>\n",
              "    </tr>\n",
              "  </tbody>\n",
              "</table>\n",
              "<p>23814 rows × 878 columns</p>\n",
              "</div>"
            ],
            "text/plain": [
              "                 id    tratamento  ...    c-99 serotonin_receptor_antagonist\n",
              "0      id_000644bb2     com_droga  ...  0.4176                             0\n",
              "1      id_000779bfc     com_droga  ...  0.7371                             0\n",
              "2      id_000a6266a     com_droga  ...  0.6931                             0\n",
              "3      id_0015fd391     com_droga  ... -0.8154                             0\n",
              "4      id_001626bd3     com_droga  ...  0.7125                             0\n",
              "...             ...           ...  ...     ...                           ...\n",
              "23809  id_fffb1ceed     com_droga  ...  0.4680                             1\n",
              "23810  id_fffb70c0c     com_droga  ...  0.3689                             0\n",
              "23811  id_fffc1c3f4  com_controle  ...  0.3808                             0\n",
              "23812  id_fffcb9e7c     com_droga  ...  0.0740                             0\n",
              "23813  id_ffffdd77b     com_droga  ... -4.2520                             0\n",
              "\n",
              "[23814 rows x 878 columns]"
            ]
          },
          "metadata": {
            "tags": []
          },
          "execution_count": 130
        }
      ]
    },
    {
      "cell_type": "code",
      "metadata": {
        "colab": {
          "base_uri": "https://localhost:8080/",
          "height": 350
        },
        "id": "KwrnCaeAGdtC",
        "outputId": "d563ae83-a64a-45fe-da1e-31c8548c09e0"
      },
      "source": [
        "print(round(dados_combinados['serotonin_receptor_antagonist'].value_counts(normalize=True),2))\n",
        "sns.countplot(data=dados_combinados, y='serotonin_receptor_antagonist')"
      ],
      "execution_count": 131,
      "outputs": [
        {
          "output_type": "stream",
          "text": [
            "0    0.98\n",
            "1    0.02\n",
            "Name: serotonin_receptor_antagonist, dtype: float64\n"
          ],
          "name": "stdout"
        },
        {
          "output_type": "execute_result",
          "data": {
            "text/plain": [
              "<matplotlib.axes._subplots.AxesSubplot at 0x7ff366d24f10>"
            ]
          },
          "metadata": {
            "tags": []
          },
          "execution_count": 131
        },
        {
          "output_type": "display_data",
          "data": {
            "image/png": "[encoded data removed]",
            "text/plain": [
              "<Figure size 432x288 with 1 Axes>"
            ]
          },
          "metadata": {
            "tags": [],
            "needs_background": "light"
          }
        }
      ]
    },
    {
      "cell_type": "markdown",
      "metadata": {
        "id": "e1_xXzBGFnT-"
      },
      "source": [
        "Apenas 2% dos dados totais ativaram o Moa `serotonin_receptor_antagonist`.]\n",
        "Se pensarmos em fazer um modelo, necessitamos de um balanceamento deste target"
      ]
    },
    {
      "cell_type": "markdown",
      "metadata": {
        "id": "8EngkfbuH22K"
      },
      "source": [
        "### Quais drogas estão associados à `serotonin_receptor_antagonist`?"
      ]
    },
    {
      "cell_type": "code",
      "metadata": {
        "colab": {
          "base_uri": "https://localhost:8080/"
        },
        "id": "7imXNlzkH10y",
        "outputId": "af1d9ade-6b1f-49aa-db70-32e23d19dbff"
      },
      "source": [
        "dados_serotonin = dados_combinados[dados_combinados['serotonin_receptor_antagonist'] == 1]\n",
        "dados_serotonin['droga'].nunique()"
      ],
      "execution_count": 132,
      "outputs": [
        {
          "output_type": "execute_result",
          "data": {
            "text/plain": [
              "69"
            ]
          },
          "metadata": {
            "tags": []
          },
          "execution_count": 132
        }
      ]
    },
    {
      "cell_type": "markdown",
      "metadata": {
        "id": "sVNLvR3KIQwf"
      },
      "source": [
        "Há **68** drogas relacionadas à este MoA. Outra pergunta que nos permeia é..."
      ]
    },
    {
      "cell_type": "markdown",
      "metadata": {
        "id": "1u2QU-llIbHu"
      },
      "source": [
        "### Quantidades por droga?"
      ]
    },
    {
      "cell_type": "code",
      "metadata": {
        "colab": {
          "base_uri": "https://localhost:8080/"
        },
        "id": "CTEo1RnpIMAJ",
        "outputId": "054e99de-19fb-412c-9839-62820c464c33"
      },
      "source": [
        "dados_combinados[dados_combinados['serotonin_receptor_antagonist'] == 1]['droga'].value_counts().sort_values(ascending=False)"
      ],
      "execution_count": 133,
      "outputs": [
        {
          "output_type": "execute_result",
          "data": {
            "text/plain": [
              "24a3fbf37    12\n",
              "42446ee76    11\n",
              "d01936d7e     7\n",
              "0cc68ee7c     7\n",
              "5387c8eaa     7\n",
              "             ..\n",
              "57f986a24     2\n",
              "d75904698     1\n",
              "7c1e00d49     1\n",
              "fb8a93a83     1\n",
              "3264f3b74     1\n",
              "Name: droga, Length: 69, dtype: int64"
            ]
          },
          "metadata": {
            "tags": []
          },
          "execution_count": 133
        }
      ]
    },
    {
      "cell_type": "markdown",
      "metadata": {
        "id": "rnZPjB6NI7WK"
      },
      "source": [
        "### É ativada com outras MoA?"
      ]
    },
    {
      "cell_type": "code",
      "metadata": {
        "id": "fiyJK5QpI95R"
      },
      "source": [
        "id_dados_serotonin = list(dados_serotonin['id'].values)"
      ],
      "execution_count": 134,
      "outputs": []
    },
    {
      "cell_type": "code",
      "metadata": {
        "colab": {
          "base_uri": "https://localhost:8080/"
        },
        "id": "ggyj23APJUfu",
        "outputId": "590ac307-4506-4f37-f97a-7d5c391f6f0e"
      },
      "source": [
        "moa_ativados_serotonin = dados_resultados[dados_resultados['id'].isin(id_dados_serotonin)]\n",
        "moa_ativados_serotonin['moa_ativados'].nunique()"
      ],
      "execution_count": 135,
      "outputs": [
        {
          "output_type": "execute_result",
          "data": {
            "text/plain": [
              "9"
            ]
          },
          "metadata": {
            "tags": []
          },
          "execution_count": 135
        }
      ]
    },
    {
      "cell_type": "markdown",
      "metadata": {
        "id": "wj3LqHomJxOj"
      },
      "source": [
        "O `serotonin_receptor_antagonist` ativa em mais 9 combinações de MoA."
      ]
    },
    {
      "cell_type": "code",
      "metadata": {
        "colab": {
          "base_uri": "https://localhost:8080/"
        },
        "id": "txbysO9pJn2T",
        "outputId": "2461dd6b-eaf2-4417-ede3-b696ed21b5f5"
      },
      "source": [
        "for combinacao in moa_ativados_serotonin['moa_ativados'].unique():\n",
        "    print(combinacao)\n",
        "    print()"
      ],
      "execution_count": 136,
      "outputs": [
        {
          "output_type": "stream",
          "text": [
            "serotonin_receptor_antagonist\n",
            "\n",
            "dopamine_receptor_agonist | serotonin_receptor_antagonist\n",
            "\n",
            "dopamine_receptor_antagonist | serotonin_receptor_antagonist\n",
            "\n",
            "gaba_receptor_antagonist | serotonin_receptor_antagonist\n",
            "\n",
            "serotonin_receptor_agonist | serotonin_receptor_antagonist\n",
            "\n",
            "serotonin_receptor_antagonist | sodium_channel_inhibitor\n",
            "\n",
            "adrenergic_receptor_antagonist | norepinephrine_reuptake_inhibitor | serotonin_receptor_antagonist | serotonin_reuptake_inhibitor\n",
            "\n",
            "adrenergic_receptor_antagonist | serotonin_receptor_antagonist\n",
            "\n",
            "adrenergic_receptor_antagonist | norepinephrine_reuptake_inhibitor | serotonin_receptor_antagonist\n",
            "\n"
          ],
          "name": "stdout"
        }
      ]
    },
    {
      "cell_type": "markdown",
      "metadata": {
        "id": "-tHP3_QcKapQ"
      },
      "source": [
        "Estas são as combinações de MoA em que o `serotonin_receptor_antagonist` participa"
      ]
    },
    {
      "cell_type": "markdown",
      "metadata": {
        "id": "cZSgbILWLGc-"
      },
      "source": [
        "# Qual droga ativa apenas o `serotonin_receptor_antagonist`?\n"
      ]
    },
    {
      "cell_type": "code",
      "metadata": {
        "id": "84C2hjJnLGMp"
      },
      "source": [
        "lista = list(moa_ativados_serotonin[moa_ativados_serotonin['moa_ativados'] == 'serotonin_receptor_antagonist']['id'].values)"
      ],
      "execution_count": 137,
      "outputs": []
    },
    {
      "cell_type": "code",
      "metadata": {
        "colab": {
          "base_uri": "https://localhost:8080/"
        },
        "id": "Lodw8CdGLycD",
        "outputId": "2534a675-854a-493c-8454-c719e4886737"
      },
      "source": [
        "dados_combinados[dados_combinados['id'].isin(lista)]['droga'].unique()"
      ],
      "execution_count": 138,
      "outputs": [
        {
          "output_type": "execute_result",
          "data": {
            "text/plain": [
              "array(['3f472c8fb', 'd5a1bc32c', 'e994cfd02', '3f374d199', '29140d496',\n",
              "       '75ad700d0', 'a551574a7', 'd73a5cf1c', '94e531807', 'df190d2b7',\n",
              "       'd1d4140f4', '5387c8eaa', '97c5016a2', '2f7e95bd8', '1d28447b9',\n",
              "       'd068b0638', 'fbd797b85', 'df1d0a5a1', '7e7dfcf43', '6597149ef',\n",
              "       'e09b0f9e7', 'd01936d7e', '405277073', '3b1b7319a', 'a95ca4f7d',\n",
              "       'bdd03a71e', 'da0aa58bb', 'bdada81cf', '93750c9d0', '7a1707c50',\n",
              "       '3ec1add16', 'a679b6ae7', '23ffb25a4', 'f177818ea', 'd401a4bc4',\n",
              "       '982d5e3b2', 'd36e6ad3b', '226348f20', 'd75904698', 'd60790d36',\n",
              "       '0cc68ee7c', 'cc702cc19', '9d5bf829c', '1cc61abd7', 'bc4f0ef29',\n",
              "       '1087fbcdd', '36e63978b', '81756e31a', '57f986a24', 'c54fe3e44'],\n",
              "      dtype=object)"
            ]
          },
          "metadata": {
            "tags": []
          },
          "execution_count": 138
        }
      ]
    },
    {
      "cell_type": "markdown",
      "metadata": {
        "id": "gs1kMqPtL-oy"
      },
      "source": [
        "Todos as drogas acime PODE ser um composto que está dentro do Vonal Flash. *Considerando que o remédio ativa apenas um MOA*"
      ]
    },
    {
      "cell_type": "markdown",
      "metadata": {
        "id": "A5UyeT8PKiy3"
      },
      "source": [
        "## Conclusões"
      ]
    },
    {
      "cell_type": "markdown",
      "metadata": {
        "id": "lRNEy4YRKmoa"
      },
      "source": [
        "Atravé do projeto apresentado pela Alura conseguimos identificar e analisar Mecanismo de Ação que está dentro do Vonal Flash"
      ]
    },
    {
      "cell_type": "markdown",
      "metadata": {
        "id": "tFhjyWijMS4v"
      },
      "source": [
        "## Próximo Passos"
      ]
    },
    {
      "cell_type": "markdown",
      "metadata": {
        "id": "lmA55t9qMVD8"
      },
      "source": [
        "Como Próximos Passos podemos criar um modelo que preveja quando o MoA `serotonin_receptor_antagonist` ative"
      ]
    },
    {
      "cell_type": "markdown",
      "metadata": {
        "id": "TZ8l-kwk41pP"
      },
      "source": [
        "## Referências\n",
        "\n",
        "[1] [Drug Discovery](https://www.sciencedirect.com/sdfe/pdf/download/eid/3-s2.0-B9780123854711000301/first-page-pdf)\n",
        "\n",
        "[2] https://anestesiologia.paginas.ufsc.br/files/2015/02/Farmacodinamica-texto.pdf\n",
        "\n",
        "[3] https://pt.wikipedia.org/wiki/Retinoides\n",
        "\n",
        "[4] https://exame.com/ciencia/mais-que-ciencia-a-gestao-do-vonau-flash-patente-milionaria-da-usp/\n",
        "\n",
        "\n",
        "\n"
      ]
    },
    {
      "cell_type": "code",
      "metadata": {
        "id": "DPfbzCVvuxLV"
      },
      "source": [
        ""
      ],
      "execution_count": 138,
      "outputs": []
    }
  ]
}